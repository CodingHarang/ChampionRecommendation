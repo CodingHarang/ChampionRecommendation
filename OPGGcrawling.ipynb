{
 "cells": [
  {
   "cell_type": "code",
   "execution_count": 1,
   "id": "06c58486",
   "metadata": {},
   "outputs": [
    {
     "data": {
      "text/plain": [
       "'D:\\\\대학\\\\3-2\\\\IT집중교육1\\\\Project1'"
      ]
     },
     "execution_count": 1,
     "metadata": {},
     "output_type": "execute_result"
    }
   ],
   "source": [
    "pwd"
   ]
  },
  {
   "cell_type": "code",
   "execution_count": 2,
   "id": "7a7ea656",
   "metadata": {
    "scrolled": true
   },
   "outputs": [
    {
     "name": "stdout",
     "output_type": "stream",
     "text": [
      "Requirement already satisfied: lxml in d:\\anaconda3\\lib\\site-packages (4.8.0)\n",
      "Collecting selenium\n",
      "  Downloading selenium-4.5.0-py3-none-any.whl (995 kB)\n",
      "Collecting trio-websocket~=0.9\n",
      "  Downloading trio_websocket-0.9.2-py3-none-any.whl (16 kB)\n",
      "Collecting trio~=0.17\n",
      "  Downloading trio-0.22.0-py3-none-any.whl (384 kB)\n",
      "Requirement already satisfied: certifi>=2021.10.8 in d:\\anaconda3\\lib\\site-packages (from selenium) (2021.10.8)\n",
      "Requirement already satisfied: urllib3[socks]~=1.26 in d:\\anaconda3\\lib\\site-packages (from selenium) (1.26.9)\n",
      "Collecting exceptiongroup>=1.0.0rc9\n",
      "  Downloading exceptiongroup-1.0.0rc9-py3-none-any.whl (12 kB)\n",
      "Requirement already satisfied: attrs>=19.2.0 in d:\\anaconda3\\lib\\site-packages (from trio~=0.17->selenium) (21.4.0)\n",
      "Collecting outcome\n",
      "  Downloading outcome-1.2.0-py2.py3-none-any.whl (9.7 kB)\n",
      "Requirement already satisfied: idna in d:\\anaconda3\\lib\\site-packages (from trio~=0.17->selenium) (3.3)\n",
      "Requirement already satisfied: sortedcontainers in d:\\anaconda3\\lib\\site-packages (from trio~=0.17->selenium) (2.4.0)\n",
      "Requirement already satisfied: sniffio in d:\\anaconda3\\lib\\site-packages (from trio~=0.17->selenium) (1.2.0)\n",
      "Requirement already satisfied: cffi>=1.14 in d:\\anaconda3\\lib\\site-packages (from trio~=0.17->selenium) (1.15.0)\n",
      "Collecting async-generator>=1.9\n",
      "  Downloading async_generator-1.10-py3-none-any.whl (18 kB)\n",
      "Requirement already satisfied: pycparser in d:\\anaconda3\\lib\\site-packages (from cffi>=1.14->trio~=0.17->selenium) (2.21)\n",
      "Collecting wsproto>=0.14\n",
      "  Downloading wsproto-1.2.0-py3-none-any.whl (24 kB)\n",
      "Requirement already satisfied: PySocks!=1.5.7,<2.0,>=1.5.6 in d:\\anaconda3\\lib\\site-packages (from urllib3[socks]~=1.26->selenium) (1.7.1)\n",
      "Collecting h11<1,>=0.9.0\n",
      "  Downloading h11-0.14.0-py3-none-any.whl (58 kB)\n",
      "Installing collected packages: outcome, h11, exceptiongroup, async-generator, wsproto, trio, trio-websocket, selenium\n",
      "Successfully installed async-generator-1.10 exceptiongroup-1.0.0rc9 h11-0.14.0 outcome-1.2.0 selenium-4.5.0 trio-0.22.0 trio-websocket-0.9.2 wsproto-1.2.0\n",
      "Collecting chromedriver-autoinstaller\n",
      "  Downloading chromedriver_autoinstaller-0.4.0-py3-none-any.whl (6.5 kB)\n",
      "Installing collected packages: chromedriver-autoinstaller\n",
      "Successfully installed chromedriver-autoinstaller-0.4.0\n",
      "Collecting webdriver-manager\n",
      "  Downloading webdriver_manager-3.8.3-py2.py3-none-any.whl (26 kB)\n",
      "Requirement already satisfied: requests in d:\\anaconda3\\lib\\site-packages (from webdriver-manager) (2.27.1)\n",
      "Collecting python-dotenv\n",
      "  Downloading python_dotenv-0.21.0-py3-none-any.whl (18 kB)\n",
      "Requirement already satisfied: tqdm in d:\\anaconda3\\lib\\site-packages (from webdriver-manager) (4.64.0)\n",
      "Requirement already satisfied: urllib3<1.27,>=1.21.1 in d:\\anaconda3\\lib\\site-packages (from requests->webdriver-manager) (1.26.9)\n",
      "Requirement already satisfied: certifi>=2017.4.17 in d:\\anaconda3\\lib\\site-packages (from requests->webdriver-manager) (2021.10.8)\n",
      "Requirement already satisfied: idna<4,>=2.5 in d:\\anaconda3\\lib\\site-packages (from requests->webdriver-manager) (3.3)\n",
      "Requirement already satisfied: charset-normalizer~=2.0.0 in d:\\anaconda3\\lib\\site-packages (from requests->webdriver-manager) (2.0.4)\n",
      "Requirement already satisfied: colorama in d:\\anaconda3\\lib\\site-packages (from tqdm->webdriver-manager) (0.4.4)\n",
      "Installing collected packages: python-dotenv, webdriver-manager\n",
      "Successfully installed python-dotenv-0.21.0 webdriver-manager-3.8.3\n"
     ]
    }
   ],
   "source": [
    "!pip install lxml\n",
    "!pip install selenium\n",
    "!pip install chromedriver-autoinstaller\n",
    "!pip install webdriver-manager"
   ]
  },
  {
   "cell_type": "code",
   "execution_count": 1,
   "id": "07dbc584",
   "metadata": {},
   "outputs": [],
   "source": [
    "from selenium import webdriver\n",
    "from selenium.webdriver.chrome.service import Service\n",
    "from webdriver_manager.chrome import ChromeDriverManager\n",
    "from bs4 import BeautifulSoup\n",
    "from time import sleep\n",
    "from selenium.webdriver.common.by import By\n",
    "import json\n",
    "import os.path"
   ]
  },
  {
   "cell_type": "code",
   "execution_count": 9,
   "id": "5e352ebe",
   "metadata": {},
   "outputs": [
    {
     "name": "stdout",
     "output_type": "stream",
     "text": [
      "There's no file\n"
     ]
    }
   ],
   "source": [
    "\n",
    "fileName = 'abc' + '.json'\n",
    "if os.path.exists(fileName):\n",
    "    print(\"There's a file\")\n",
    "else:\n",
    "    print(\"There's no file\")"
   ]
  },
  {
   "cell_type": "code",
   "execution_count": 4,
   "id": "82bade59",
   "metadata": {},
   "outputs": [],
   "source": [
    "driver = webdriver.Chrome(service=Service(ChromeDriverManager().install()))\n",
    "driver.implicitly_wait(3)"
   ]
  },
  {
   "cell_type": "code",
   "execution_count": 17,
   "id": "6d4985b0",
   "metadata": {},
   "outputs": [],
   "source": [
    "# 상위 1000명의 user의 닉네임을 가져온다\n",
    "playerName = []\n",
    "\n",
    "for pageNum in range(1, 11):\n",
    "    driver.get(\"https://op.gg/leaderboards/tier?region=kr&page=\" + str(pageNum))\n",
    "    driver.implicitly_wait(2)\n",
    "    html = driver.page_source\n",
    "    soup = BeautifulSoup(html, 'lxml')\n",
    "    links = set(soup.find_all('tr', id=True))\n",
    "    for link in links:\n",
    "        playerName.append(link['id'])\n",
    "    sleep(3)"
   ]
  },
  {
   "cell_type": "code",
   "execution_count": 14,
   "id": "ff65ae42",
   "metadata": {},
   "outputs": [
    {
     "data": {
      "text/plain": [
       "1000"
      ]
     },
     "execution_count": 14,
     "metadata": {},
     "output_type": "execute_result"
    }
   ],
   "source": [
    "len(playerName)"
   ]
  },
  {
   "cell_type": "code",
   "execution_count": 15,
   "id": "1121d689",
   "metadata": {},
   "outputs": [
    {
     "name": "stdout",
     "output_type": "stream",
     "text": [
      "['chancedong', 'contactus', '징징문', '다없수질', '시간의숲', 'shadow1234', '내가대격변이다', 'suyiming', '신을저주해', 'blackbaby', '망나니박진수', 'nssylvie', 'lumingze', 'ktway', 'luckgame1', '이렐아칼리', 'brohena', '재훈이의모함', 'quad', '아아스크림', '추털이fan', 'supreme01', 'qingqingqing', 'freditbrion', '어디간거니', '냥똥벌레', 'lajifuzhu', '독소쌓인다', 'dksharvel', '칼과창방패', '권지인', 'needher', 'dklucid', '농심라면다내꺼야', 'hlesamd0', '하건둘리', 'radiohead', '바람부는언덕위에', '디알엑스태윤', '연애꽃1', 'arkruha', 'fa피치', 'honpi', 'shadownia', 'xbm', '존중겸손아닥집중', 'brodelight', '해가지면달이핀다', 'drxsponge', 'brobro', 'ktamid', 'rascal', 'psavncav', 'shadow1111', '범고래사자고양이', 'ningyao', '이차가식기전에', 'twitchtvmigung', 'i1lm6e8a', '또한방울', '청포도육포', '은가뉴', 'tpzhao727472857', 'drxpiero', '어리고싶다', 'beichuan', 'qfddxs', '해야하는것들', '코태', 'kiin', 'rich3', '변정현굉장하다', '어디가다들', 'g1deon', '착하게채팅쳐요', '난화내', '호잇이', 'pengyouwanan', '어쩌라고맞짱뜰까', '일산전영찬', '담원패밀리', '언니우기', '4ywioi1zi6kb0', 'shadowpatch', 'p9q6p9q', 'rewkfopdsfk', 'ktcastle', 't1smash1', '변변정정현현', '221124', 'ktvicla', 'wjatnsupup', '화내기도지쳤어', '06탑차이', '대머리', 'dkpullbae', 'lcklpl', '쟌슨빌로다가어', '아이러니', 'pangsu', 'hhhhbbbb', '그땐그저좋았다', '해피람', 'indexy', '동냥아치', 'igymg', '워드', 'ucal', '핏빛계약', '맛있어져라', 'dk세인트', '캐인', '도구는툴툴', '기묘기묘', '개게알러지', '마틴마틴마틴마틴', 'permaban12061827', 'x1ng', '해피융', 'slowshiba64', '분과', '이해가아리마셍', 'revebonheurtoi', '소년가장원딜', '유상증자', '눈을사용하세요', '캐리나할까', 't1photon2', 'azhy', 't1gumayusi', 'kqher', '6461', 'talon817', 'qweqweqwerrr', '먹무링', '아창란식물', 'dkbible1', '케리웅', 'smallchamppool', '방송인손주녁', '렐서폿', '런두', 'onelastk1ss', '신상공원', '저맹굽니다', 'facallme', 'gengakia', 'midklng', '누쇤팍', 'fgdkxcnkz', 'academyt1', 'bromorgan', '관모', '매일불면증', '원나물', 'nekol', 'c0ldworld', '게으름피우기', '에너지듀링크', 'inng7', '박구원', '이니쉬', 'zenbukorosu', 'pzzzang', '우연이영원히', '쌔di', 'castlng', '테디park', '아좀맛없네', '김춘식', '초보강아지', '피그차이나', 'maybealittle', 'icnoasndql', 't1trigger', 'erilia', 'zika1', '애디도구른다', '실수없이', 't1포레스트', '수희0', '내목숨은아이어에', '코로나시러', 'letmesup', 'baut2', 'new상민', 'hxqeyff', '한화생명기몽조', 'rumbon', 'sangchu', '쭌베', 'ddoobb', 'shenmigaoshou', 'ddoiv', '버기해적단버기', 'onezang', '울부짖는마오카이', '초바모자', '팀개못하면누누함', '강하다별', 't1gangplankzz', 'yoyodear', '젠지아키아', '청포도는외계인', '이기고싶댜아', '경자고김우민', '빙산의일각', '손주녁', 'romeosaveme', 'jkjkjkjkk', '비급음식서바이벌', 'luckgame3', '숟인데요', '찡찡찡찡찡징찡', 'mudai', '준승이', 'zhouyudagougou', '야이야이야이이야', '정글도치', '정훈이의모험', 'wehui', 'midqvq', 'fortunateman', '전민혁', '프로연락친추주셍', 'rebysr', '타코먹으러떠남', 'kp스타수혜자', '드래곤볼온라인', 'xwopxi', 'esenswtfru', '애니속예쁜미친년', '나는냉정하다', '아라가키유이', '조고마한달기', '하하하하이새끼', 'twitch다훈갓', '노력35', 'fatty', '쏘쏘꼬미', 'noir5', 'uneasy123', '초음파받아랏oooo', '가오띵띵', '백크님화이팅', 'new윤환', 'yibeiliangbei', '아이러니2', 'lngzhaorenxxxxx', '번갯불의섬광', '저빵인데터졌어영', '곽수종', '아연몬', '신격', '불이과', 'dayeking', '댕청한남자', '강직한루비임프', '슈퍼짱세이', '이겨보자아', '98kcn', 'permaban12061826', 'seven', '공주현s2', 'ilililil23', 'hleonfleek', 'qa23c44333', 'dkshowmaker', '열심히가안돼요', '밀리마스', 'tsmftxmia', 'kimsanghoon', 'destiny', '한달안에챌까지', '행복한태윤이', 'avrillavlgne', 'gengcasting', 'vancouver0', '전설의롤1234', '블미', 'jul7', 'asdfghjhhg', '킬러톱', 'wittmid', 'nulinuliba', '광연44', 'ouyangnanathebe', '강주연', 'dankeshcon', '거북이삼형제', 'zxcawaqwe', 'ddayman', 'orcachu', '겨울레몬', 'rdyrdy', 'imanostrich', '이야공', 'lsbenvy', '꿀잼사과잼', 'saebyuck', 'neth3rworld', 'iieona', 'fragiie', 'topking', '이쁜채팅', 'zzz163', 'kukukukuku', '악마돌', 'gengseeder', '진영진영', '졸린시간의숲', 'haoeeeee', 'pizano', 'afgfg', '트위치다훈갓', 'danxiaogu', 'epilogueforyou', 'ohlovely', '토어문호두', 'knightbaby', 'twosupcantwin', 'dwgkia', 'shadowcad', 'gengruler', '고등학생', 'beibeibabe', 'bvoy3', '찬중', 'doo2o', 'zichuanxiu', 'everysec0nd', 'permaban12064821', 't1van', 'xxiaohao', '북한가자', 'hlewiller', 'mm8n', 'milinjinbingwan', '저높은곳으로', 'blacksmithking', 'ignar', '못생김채영', '2o22winter', 'aileri', 'shangxinni', 'canbeyour', '하늘에노래하며', 'doltv5327129', 'vmuy', 'life1', '하건펭수', 'wannaberookie', 'wampuyam', 'mrotsder', 'haohanguo', '준걸준재주재', 'qwasdasd', 'ktrjgl', '내반려견봄이', 'jaeyounge2', '전프로코치구직', 'sharvelfan1', '남장구', '야너큐돌려', 'bababaabam', '교육잘받은도구', '허빙', 'cr0wn', 'qusibadaye', 'dk바이블', 'maozhuren1', 'gaohanjjoygod', 'smmz', 'nshh', 'asdoihqwhdoqwd', 'thanatos', 'swalla', 'sangonom1ya', 'bl09', '강하다벌', '땅우양1', 'zi존고수짱짱맨', 'tns1', 'lv1갑각류', '수당김', 'iejqifpq', '핑절대안찍음', '내지난날들은', 'privatemail', '조관우급늪설치', '솔랭전문서폿', '얼린레몬차', 'qweasdzxz', '별수호자김인겸', 'wocjf', '부리부리대먀앙', 'broenosh', '갈과배음료', '벌꿀이시우', 'spongebob', '겨릴레오겨릴레이', 'z2ry', '저돌적인포지션', 'gble212', 'apology', '살퀸레', 'dangyadangyadang', 'jug2005', '불멸의무빙', 'qwer112233', '하프물범아웅아웅', 'smbheixiaohu', 'hlesamd3', '건들지마심기', 'explosivecask', 't1dal', '아내를사랑하다', 'whysj', 'gengzest', 'hlelukalux', 'drxtaeyoonn', 'keeiyes', '정6천', 'haohao', 'pungyeon', '태리곰곰', 'imtrash', '죽기장인', '단구동베어그릴스', 'toiand', 'vsta0', '박흥호', 'jaqbh4n', 'imaginelegends', '규보리', '짝콩이', '꾸우우우움틀', '몽키d짱구', 'daor', '7t', 't1photon1', '디케이탑', 'cikcik', '트위치오또마', 'opensup', '서당개처럼살기', '현기증나는사람', 'jsjstar', 'beauvoyage', 'fiddlestick', '베이베이야', '댑버러디', '카이팅요정', '뉘셰핑', 'sdklfjsdfds', '7w', 'qqwwud', 'diahermoso', 'zed99', 'dariking', '두꺼비압수', '10killor10death', 'attackfight', 'px8', 'xieede', 'lsbad1top', 'naynaesa', 'tatoetatoe', '하프실', 'pinkocean1', '설레고싶엉', '모든것은운', '31561120', 'ertydfghcvbn', '모나감우피슬쇼군', 'permaban12052301', 'fioraklng', '다시시작합시다1', '퐁키밥도둑', 'justagain', 'wbgq80089759', '에이r티', 'lianbaixia', '케론별케로로', '연노랑색', '우주럭스', 'donglixiaozi', 'herres', 'guyuefangyuan', 'floridajungler', 'perviremit', '후지와라센하나', 'somdubu', 'ckdkdow', '서래공원', '분노의쭈꾸미', '카네기인생론', 'gengmyung', 'sryteam01', '야채개똥', 'illaklng', 'liyinxi', 'dsasfgsdf', '도전전문유튜버', '헤이스트', '달인1', '꿀열매먹고보자', 'qwgwqekhadh', 'aftv케리웅', '아라드', 'asdasdsada', 'nonulishangjin', 'crash9', 'sugikim', 'meandmycats', '신입서폿', '현주입니다', 'xqanadu', '12savage', 'hadam', '저트', 'fisherr', 'apdao', '승승웅', '매우지루한', '정점에오른다', '나약할민', '결국우린끝난사이', '똥독오른강마이', 'sslsslsslssl', 'nalamango', '허사피피', '꼬북이는꼬오북', 'lifgfasdfa', 'iliiilliilllili', '2w3u89jo4eir', 'dkthumb', '버리기장인', '징징이는징징징징', 'gengtaegyeong', 'asdfasdfasdjkl', 'ronghuoxinsheng', '가위주머니', 'i백년언약i', '초이통통', 'deuldeul', '벌꿀오소리식솔랭', '정흠이', '나처형못해요', 'midk00', 't1minous', '카정갑니다슈웃', '강한정신원딜', '1l1ii1l1i', 'moye', '민정이이쁘다', '갑각류맛있댜', 'xixigoodnight', '사탄들린울짖마', '수라차', 'tselin', '쌩배씨1발련들', 'shatteredglass', '덱시루', 'makabaka666', '중모희망요고', '말벌성훈', 'mijello', 'nscalix', '라코', '신을거스르겠다', '비가오고나면', 'blank', 'pinz', '노정택', 'kiwidoctor', '4006114', 'hache', 'jianguoqiangzz', 'agod1', 'a1da2d', '순규박', 'rainy마천륜', 'night919', 'uncommon', '리바이병장', '아프다8', 'blueframe', 'ioveriven', 'dadaliya', '천수대비가', 'permaban12032609', 'awrfwadasdagawd', '상식적으로', 'jugklng', 'ganondorf', '따봉람머스', '노쟈기i', '죽림초', '뉴뉴킹', '꼬마딩구리', 'gukbo', '연패후연승', '하늘색안개꽃', 'hbk08', 'nspeter', 'xiangrikui', '무엇이든도라에몽', '각본속슬픈삐에로', 'supnight', '볼때마다잘하는놈', 'yamangzz', 'herorz', 'iveonezero', '매루', 'zhongyi6', 'twiilght', '초반원반', '루나섭윈브메린이', '너네정글다내꺼', 'waiki', '통나무에서춤추기', '포뇨의지느러미', 'hlecaptain', 'aaw2', 'celna', '때까지때까지', '미니언14', '윤용호', 'clever9', '갈배의눈물', '미소년', '카정카정카정카정', 'gankplankbanplz', '콘니치아', '멍군임', 'daoxinwengu', '짜리몽땅지우개', '랜드브', 'lonelydance7', 'senaphine', 'zenbukorosn', 'g7ren', '키키와함께춤을', '2625473158964736', '실우치구', '랜덤픽자이라', 'fayurikr', '턱발로걷어차기', 'rangerk', '병굴', '물다이아', 'su1s', '젱글', '요만해', 'gengsavage', 'wywqhf1026', 'rumorhasit', '지응성', '큐지', '로머', '눈이감기다', '별이지고', '온재', '2수연', '작은모래성', '근거있게무빙하기', '잔뜩신난기계기', '납영현', 'yeshubin', '역몽', '비모안돼', 'asin', '리그오브레전드ll', '구루구루구르구르', 'sssj', 'whit3zz', '벼룩아가자', '참새크면비둘기', '허언터', '채영이개이쁨', '부엉희', 'cheon2', 'artistjaehk', '응봉산토깽이', 'chogod', '종완이의콩여행기', 'goldie', '전상득', '갸루와공룡', 'joliminhae', 'onerfriend2', 'permaban12061828', 'dingdingdang', '로망', 'zisigui', '귓x', '잼숑', '요정승잉', '용과호랑이용', 'adamsama', '바텀보면승리', '포켓몬레드9999', '조광희', '아빠나죽일거야', '츄르절도범', 'wbgeasyhoon', '통나무들기', '스물다섯번째밤', '진짜정신차렸어', '모래상자', 'cuzz', '290rp', '안말1', '바뀔시간이됐어', 'croco', '누가최고야', '원그리기1', '치타는웃고있다99', 'harder2', '웃자', '포로새드', '용감한바다의전사', '외길인생샤코', '미북이', 'kerill1an', '실수는실력', '밤르곳', 'sadness', '양념형', '귀요미고라파동1', '대야웰백', '잠에들다', '독기품기', '아니는난뎅', '장임박', 'lionisolate', 'blackknight8', '푸쿠이', '아프리카강주찬', 'wohuizuodegenhao', '르카쩌', 'autokeras', 'hardrain1', '새벽제세동', '1orm4', '장영인서준', 'loveaffair1', '데스노트', 'yursan', '김말국1', 'ohwin', '핑핑아울지마', '율욜', 'mdtv5327129', 'supercorn', '디알엑스제카', '2serverc1', 'viewmore', 'ywohs', '채팅좀작작치셈', '물에젖은장작', 'no15gg', 'twtvsoodangkim', 'facoachella', 'lsylsy', 'qnewbnuerhj', '바보상단영민', 'izone김채원', '앙커스', 'fuboli', '묵언빡겜1000점', 'yhhhhhhhh', 'gogogogogogogo44', 'tlonelyt', 'h0wau', '한겨울의해바라기', 'envy만나면박음', 'bwhy', 'dxnuf', '윤가놈백원펀치', 'twitch라코', '지분화', 'liliilliliillili', '지훈백크', 'qweraszcdfgtyu', 'realgankster', 'alwayshowl', 'dlrj', '그림자가웃으면', '최희곤', 'czxvadqx', 'dksiwoo', '200406241', '푸른감옥', '술통살인사건', 'shrimpvicious', 'naturalbeauty', 'drx윤준용', 'gengpunch', '벨제', '별사탕이좋아요', 'kdfmoham1', 'lvt', '26rot', '전세종', 'nationblue', '잔월의숙청', '쿠하쿠', '와일더123', '불다이아', 'hidinreloading', 'hxhcqh', 'q9p6q9p', '로또1등복권', '아직조금더', 'zjh', 't1zeus', '마래리트', '탑배제알아서책임', '익스큐즈', 'twitch나맹2', '세미부리', 'ijackpoti', 'bumblebee1', 'riteleader', '한국한량', 't1poseid0n', '끝난이야기', 'adadadaadaa', '행운의파랑새', '금성2', 'hurtovo', '자쿰혼테일핑크빈', '본준', '뭘해도재미없다', 'lsbdooti', '낭만의너굴', 'torose', '외노자월급뺏기', 'megaboner', 'twitch말레맨', '하키코', '기억을찾다', '쪼꼬간식', '너겟룽', '비브이', '티모하기싫다', '1ap하고싶다', '제패각', '리팡호', '성진우fan', 'rengarklng', 'permabanm0001002', '공익행동할꺼야', 'permaban12066041', '굳게믿는것', '난너만지켜줘', '쉔외길인생', 'lehends', '지훈좌의프로토스', 'joosang', '양여명', '생배충과중국인', '힘의머리띠', '쏘대쟝팬', 'ndbg', 'iiiiliiliiiiiiii', 'zkqwnwvf', '아이번애호가', 'eternalgalio', '임수민똥멍청이', '포테이토칩', 'sereno', '나는수달이좋아', 'iijiililiiiii', '쉔드백', '느그마와잭스', 'theartist장인', '떼굴떼굴헤롱헤롱', '우당탕탕윤콩순', '갱눈이', 'nssounda', 'qpalzmwoaj', 'fdexd', '이성적인정글', 'hideonbush', 'moojin777', 'bluee', '복슬복슬겨드랑이', '날쌘화살신태민', '다가갈수없는그녀', 'h2ng', 'xiaohuasheng7', '젠지에서딜리트', '나는나무란다', '적대현', 'gc부산execute', 'xzfugiyzuidgyb', '라빠엘', 'futureuncertain', 'junb', 'bruiser', '개나리두목', '송하랑', '이렐장군', 'keyara', 'karong', 'tswm', 'songdoad제진', '크으리', 'zhishisue', 'sadfadsfe', '20030414', '해양재해', 'fadeawayshot', 'dtyuih', '간디도롤하면폭력', 'korek2yo', '희동2', '오뚜기3분미트볼', '취재기자', 'moonsju', 'xiaohuasheng31', '링고형아', '퀸정', '옘뱅', 'decky1', '엔비', 'k범진k', 'myadplayersonl79', 'juhana', '뇌녹사', 'biexinnvren', '써큘러오피투', '05irelia', '우리공쥬님', '슈퍼짱현이', '부리부리대먀양', '질만했네', 'connive', '빛나는태양빛', 'oi터', '에그마요치킨', '오리엔테이션', '서폿오빠살려줘', '카나비1', '권성범', '나는과일장사', '생각하고집중하기', '나는달갑지않다', '우니가외우니', '토실토실한붕어', '광운대학교게임프로그래밍학과', 'povpovv', '레전드다', 'limit', '멍들어서아프다', '특이점은와요', '민형귀환', '하나둘셋쾅쾅', 'passive', 'twilignt', 'zhaoduii', 'meiyoumubiao', '심판자퀸', '안맞습니다', '느그럭스', '빠노스', '발전이필요한사람', '선제공격카르마', '부캐원딜', '아카이브팩션', '유빈미연', '컴교김현민', '보고도안빼는사람', '요플래', '지면뭐아쉬운거지', '매혹으짜니', '극복그리고낭만', '투정꾼', '가랑이폭격대', 'european', '승혁77', '몽이의간식', 'soulsaveronline', '우울해', '광왕', 'aclas', '기합아쎄이', '닐라좀해주세요', '슬이강아지', 'autumoo', '렝꽁이', '1픽보다잘함', '포항애기고먐밍', 'sadman1', '태기베어', 'xiaohetaoqaq', 'miaoniu8']\n"
     ]
    }
   ],
   "source": [
    "print(playerName)"
   ]
  },
  {
   "cell_type": "code",
   "execution_count": 77,
   "id": "71d7195b",
   "metadata": {},
   "outputs": [],
   "source": [
    "driver.get(\"https://op.gg/summoners/kr/초급하랑봇\")"
   ]
  },
  {
   "cell_type": "code",
   "execution_count": 7,
   "id": "db7ecbf6",
   "metadata": {},
   "outputs": [
    {
     "data": {
      "text/plain": [
       "'//*[@id=\"content-container\"]/div[2]/button'"
      ]
     },
     "execution_count": 7,
     "metadata": {},
     "output_type": "execute_result"
    }
   ],
   "source": [
    "'//*[@id=\"content-container\"]/div[2]/button'"
   ]
  },
  {
   "cell_type": "code",
   "execution_count": 78,
   "id": "c8c7dd74",
   "metadata": {},
   "outputs": [],
   "source": [
    "# 더보기 버튼 누르기(리스트 늘리기)\n",
    "for i in range(1, 6):\n",
    "    driver.find_element(By.XPATH, '//*[@id=\"content-container\"]/div[2]/button').click()\n",
    "    driver.implicitly_wait(2)\n",
    "    sleep(2.5)\n",
    "    "
   ]
  },
  {
   "cell_type": "code",
   "execution_count": 79,
   "id": "46932c9e",
   "metadata": {},
   "outputs": [],
   "source": [
    "# 각 게임별 세부사항 보는 버튼 누르기\n",
    "for i in range(1, 101):\n",
    "    driver.find_element(By.XPATH, '//*[@id=\"content-container\"]/div[2]/div[3]/li[' + str(i) + ']/div/div[4]/button').click()"
   ]
  },
  {
   "cell_type": "code",
   "execution_count": 80,
   "id": "541b3feb",
   "metadata": {},
   "outputs": [],
   "source": [
    "html = driver.page_source\n",
    "soup = BeautifulSoup(html, 'lxml')"
   ]
  },
  {
   "cell_type": "code",
   "execution_count": 115,
   "id": "f3f6a4e0",
   "metadata": {},
   "outputs": [],
   "source": [
    "gameLists = list(soup.find_all('div', result=True))"
   ]
  },
  {
   "cell_type": "code",
   "execution_count": 116,
   "id": "09fd7a27",
   "metadata": {},
   "outputs": [
    {
     "data": {
      "text/plain": [
       "220"
      ]
     },
     "execution_count": 116,
     "metadata": {},
     "output_type": "execute_result"
    }
   ],
   "source": [
    "len(gameLists)"
   ]
  },
  {
   "cell_type": "code",
   "execution_count": 117,
   "id": "52b96019",
   "metadata": {},
   "outputs": [
    {
     "name": "stdout",
     "output_type": "stream",
     "text": [
      "<div class=\"css-apk25k e1769nho1\" result=\"WIN\"><div class=\"css-p1rk5m eclu3w40\"><img alt=\"\" src=\"https://s-lol-web.op.gg/images/icon/icon-link.svg?v=1664954331925\" width=\"16\"/><input class=\"copy-link\" readonly=\"\" type=\"text\" value=\"https://www.op.gg/summoners/kr/%EC%B4%88%EA%B8%89%ED%95%98%EB%9E%91%EB%B4%87/matches/V8Ikla0v46C1t9xjkWFS6mPuvklTULVAM5clsoKcMXA%3D/1664729399000\"/><button>Copy Link</button></div><ul><li class=\"css-yqqbw2 e1769nho0\" result=\"WIN\"><button>종합</button></li><li class=\"css-1o3x8ji e1769nho0\" result=\"WIN\"><button>팀 분석</button></li><li class=\"css-1o3x8ji e1769nho0\" result=\"WIN\"><button>빌드</button></li><li class=\"css-1o3x8ji e1769nho0\" result=\"WIN\"><button>etc</button></li></ul><div class=\"css-1dm3230 eo0wf2y0\"><table class=\"css-1478wry e15ptgz10\" result=\"WIN\"><colgroup><col width=\"44\"/><col width=\"18\"/><col width=\"18\"/><col/><col width=\"98\"/><col width=\"120\"/><col width=\"48\"/><col width=\"56\"/><col width=\"175\"/></colgroup><thead><tr><th colspan=\"4\"><span class=\"result\">승리</span>(블루팀)</th><th>KDA</th><th>피해량</th><th>와드</th><th>CS</th><th>아이템</th></tr></thead><tbody><tr class=\"css-12kdhht e1j3rwa94\" result=\"WIN\"><td class=\"champion\"><a href=\"/champions/soraka\" rel=\"noreferrer\" target=\"_blank\"><div class=\"\" style=\"position: relative;\"><img alt=\"소라카\" src=\"https://opgg-static.akamaized.net/images/lol/champion/Soraka.png?image=c_crop,h_103,w_103,x_9,y_9/q_auto,f_webp,w_64&amp;v=1664954331925\" width=\"32\"/><div class=\"level\">18</div></div></a></td><td class=\"spells\"><div class=\"\" style=\"position: relative;\"><img alt=\"총명\" src=\"https://opgg-static.akamaized.net/images/lol/spell/SummonerMana.png?image=q_auto,f_webp,w_auto&amp;v=1664954331925\"/></div><div class=\"\" style=\"position: relative;\"><img alt=\"점멸\" src=\"https://opgg-static.akamaized.net/images/lol/spell/SummonerFlash.png?image=q_auto,f_webp,w_auto&amp;v=1664954331925\"/></div></td><td class=\"runes\"><div class=\"\" style=\"position: relative;\"><img alt=\"신비로운 유성\" src=\"https://opgg-static.akamaized.net/images/lol/perk/8229.png?image=q_auto,f_webp,w_auto&amp;v=1664954331925\"/></div><div class=\"\" style=\"position: relative;\"><img alt=\"지배\" src=\"https://opgg-static.akamaized.net/images/lol/perkStyle/8100.png?image=q_auto,f_webp,w_auto&amp;v=1664954331925\"/></div></td><td class=\"name\"><a href=\"/summoners/kr/%EC%A1%B4%EC%9E%AC%ED%95%98%EB%8A%94%20%EB%8B%89%EB%84%A4%EC%9E%84\" rel=\"noreferrer\" target=\"_blank\">존재하는 닉네임</a><div class=\"tier\">Level 191</div></td><td class=\"kda\"><div class=\"k-d-a\">3/3/36 <div class=\"\" style=\"position: relative;\">(85%)</div></div><div class=\"css-ufjp55 e1j3rwa90\">13.00:1</div></td><td class=\"damage\"><div><div class=\"\" style=\"position: relative;\"><div class=\"dealt\">15,469</div><div class=\"progress\"><div class=\"fill\" style=\"width: 36%;\"></div></div></div><div class=\"\" style=\"position: relative;\"><div class=\"taken\">12,211</div><div class=\"progress--taken\"><div class=\"fill\" style=\"width: 32%;\"></div></div></div></div></td><td class=\"ward\"><div class=\"\" style=\"position: relative;\"><div>0</div><div>0 / 0</div></div></td><td class=\"cs\"><div>14</div><div>분당 0.8</div></td><td class=\"items\"><div class=\"item\"><div class=\"\" style=\"position: relative;\"><img alt=\"에테르 환영\" src=\"https://opgg-static.akamaized.net/images/lol/item/3113.png?image=q_auto,f_webp,w_44&amp;v=1664954331925\" width=\"22\"/></div></div><div class=\"item\"><div class=\"\" style=\"position: relative;\"><img alt=\"밤의 수확자\" src=\"https://opgg-static.akamaized.net/images/lol/item/4636.png?image=q_auto,f_webp,w_44&amp;v=1664954331925\" width=\"22\"/></div></div><div class=\"item\"><div class=\"\" style=\"position: relative;\"><img alt=\"악마의 마법서\" src=\"https://opgg-static.akamaized.net/images/lol/item/3108.png?image=q_auto,f_webp,w_44&amp;v=1664954331925\" width=\"22\"/></div></div><div class=\"item\"><div class=\"\" style=\"position: relative;\"><img alt=\"명석함의 아이오니아 장화\" src=\"https://opgg-static.akamaized.net/images/lol/item/3158.png?image=q_auto,f_webp,w_44&amp;v=1664954331925\" width=\"22\"/></div></div><div class=\"item\"><div class=\"\" style=\"position: relative;\"><img alt=\"루비 수정\" src=\"https://opgg-static.akamaized.net/images/lol/item/1028.png?image=q_auto,f_webp,w_44&amp;v=1664954331925\" width=\"22\"/></div></div><div class=\"item\"><div class=\"no-item\"></div></div><div class=\"item\"><div class=\"\" style=\"position: relative;\"><img alt=\"포로 간식\" src=\"https://opgg-static.akamaized.net/images/lol/item/2052.png?image=q_auto,f_webp,w_44&amp;v=1664954331925\" width=\"22\"/></div></div></td></tr><tr class=\"css-12kdhht e1j3rwa94\" result=\"WIN\"><td class=\"champion\"><a href=\"/champions/janna\" rel=\"noreferrer\" target=\"_blank\"><div class=\"\" style=\"position: relative;\"><img alt=\"잔나\" src=\"https://opgg-static.akamaized.net/images/lol/champion/Janna.png?image=c_crop,h_103,w_103,x_9,y_9/q_auto,f_webp,w_64&amp;v=1664954331925\" width=\"32\"/><div class=\"level\">15</div></div></a></td><td class=\"spells\"><div class=\"\" style=\"position: relative;\"><img alt=\"점멸\" src=\"https://opgg-static.akamaized.net/images/lol/spell/SummonerFlash.png?image=q_auto,f_webp,w_auto&amp;v=1664954331925\"/></div><div class=\"\" style=\"position: relative;\"><img alt=\"탈진\" src=\"https://opgg-static.akamaized.net/images/lol/spell/SummonerExhaust.png?image=q_auto,f_webp,w_auto&amp;v=1664954331925\"/></div></td><td class=\"runes\"><div class=\"\" style=\"position: relative;\"><img alt=\"빙결 강화\" src=\"https://opgg-static.akamaized.net/images/lol/perk/8351.png?image=q_auto,f_webp,w_auto&amp;v=1664954331925\"/></div><div class=\"\" style=\"position: relative;\"><img alt=\"정밀\" src=\"https://opgg-static.akamaized.net/images/lol/perkStyle/8000.png?image=q_auto,f_webp,w_auto&amp;v=1664954331925\"/></div></td><td class=\"name\"><a href=\"/summoners/kr/GAVISCON31\" rel=\"noreferrer\" target=\"_blank\">GAVISCON31</a><div class=\"tier\">Level 124</div></td><td class=\"kda\"><div class=\"k-d-a\">0/11/22 <div class=\"\" style=\"position: relative;\">(48%)</div></div><div class=\"css-x36ffj e1j3rwa90\">2.00:1</div></td><td class=\"damage\"><div><div class=\"\" style=\"position: relative;\"><div class=\"dealt\">5,425</div><div class=\"progress\"><div class=\"fill\" style=\"width: 13%;\"></div></div></div><div class=\"\" style=\"position: relative;\"><div class=\"taken\">20,412</div><div class=\"progress--taken\"><div class=\"fill\" style=\"width: 53%;\"></div></div></div></div></td><td class=\"ward\"><div class=\"\" style=\"position: relative;\"><div>0</div><div>0 / 0</div></div></td><td class=\"cs\"><div>13</div><div>분당 0.8</div></td><td class=\"items\"><div class=\"item\"><div class=\"\" style=\"position: relative;\"><img alt=\"월석 재생기\" src=\"https://opgg-static.akamaized.net/images/lol/item/6617.png?image=q_auto,f_webp,w_44&amp;v=1664954331925\" width=\"22\"/></div></div><div class=\"item\"><div class=\"\" style=\"position: relative;\"><img alt=\"대천사의 포옹\" src=\"https://opgg-static.akamaized.net/images/lol/item/3040.png?image=q_auto,f_webp,w_44&amp;v=1664954331925\" width=\"22\"/></div></div><div class=\"item\"><div class=\"\" style=\"position: relative;\"><img alt=\"명석함의 아이오니아 장화\" src=\"https://opgg-static.akamaized.net/images/lol/item/3158.png?image=q_auto,f_webp,w_44&amp;v=1664954331925\" width=\"22\"/></div></div><div class=\"item\"><div class=\"\" style=\"position: relative;\"><img alt=\"화학공학 부패기\" src=\"https://opgg-static.akamaized.net/images/lol/item/3011.png?image=q_auto,f_webp,w_44&amp;v=1664954331925\" width=\"22\"/></div></div><div class=\"item\"><div class=\"\" style=\"position: relative;\"><img alt=\"점화석\" src=\"https://opgg-static.akamaized.net/images/lol/item/3067.png?image=q_auto,f_webp,w_44&amp;v=1664954331925\" width=\"22\"/></div></div><div class=\"item\"><div class=\"no-item\"></div></div><div class=\"item\"><div class=\"\" style=\"position: relative;\"><img alt=\"포로 간식\" src=\"https://opgg-static.akamaized.net/images/lol/item/2052.png?image=q_auto,f_webp,w_44&amp;v=1664954331925\" width=\"22\"/></div></div></td></tr><tr class=\"css-12kdhht e1j3rwa94\" result=\"WIN\"><td class=\"champion\"><a href=\"/champions/missfortune\" rel=\"noreferrer\" target=\"_blank\"><div class=\"\" style=\"position: relative;\"><img alt=\"미스 포츈\" src=\"https://opgg-static.akamaized.net/images/lol/champion/MissFortune.png?image=c_crop,h_103,w_103,x_9,y_9/q_auto,f_webp,w_64&amp;v=1664954331925\" width=\"32\"/><div class=\"level\">16</div></div></a></td><td class=\"spells\"><div class=\"\" style=\"position: relative;\"><img alt=\"정화\" src=\"https://opgg-static.akamaized.net/images/lol/spell/SummonerBoost.png?image=q_auto,f_webp,w_auto&amp;v=1664954331925\"/></div><div class=\"\" style=\"position: relative;\"><img alt=\"점멸\" src=\"https://opgg-static.akamaized.net/images/lol/spell/SummonerFlash.png?image=q_auto,f_webp,w_auto&amp;v=1664954331925\"/></div></td><td class=\"runes\"><div class=\"\" style=\"position: relative;\"><img alt=\"집중 공격\" src=\"https://opgg-static.akamaized.net/images/lol/perk/8005.png?image=q_auto,f_webp,w_auto&amp;v=1664954331925\"/></div><div class=\"\" style=\"position: relative;\"><img alt=\"지배\" src=\"https://opgg-static.akamaized.net/images/lol/perkStyle/8100.png?image=q_auto,f_webp,w_auto&amp;v=1664954331925\"/></div></td><td class=\"name\"><a href=\"/summoners/kr/%ED%95%98%EB%A7%88%EB%B2%A0\" rel=\"noreferrer\" target=\"_blank\">하마베</a><div class=\"tier\">Level 210</div></td><td class=\"kda\"><div class=\"k-d-a\">22/11/16 <div class=\"\" style=\"position: relative;\">(83%)</div></div><div class=\"css-ar2iwp e1j3rwa90\">3.45:1</div></td><td class=\"damage\"><div><div class=\"\" style=\"position: relative;\"><div class=\"dealt\">42,620</div><div class=\"progress\"><div class=\"fill\" style=\"width: 100%;\"></div></div></div><div class=\"\" style=\"position: relative;\"><div class=\"taken\">25,917</div><div class=\"progress--taken\"><div class=\"fill\" style=\"width: 67%;\"></div></div></div></div></td><td class=\"ward\"><div class=\"\" style=\"position: relative;\"><div>0</div><div>0 / 0</div></div></td><td class=\"cs\"><div>86</div><div>분당 5</div></td><td class=\"items\"><div class=\"item\"><div class=\"\" style=\"position: relative;\"><img alt=\"피바라기\" src=\"https://opgg-static.akamaized.net/images/lol/item/3072.png?image=q_auto,f_webp,w_44&amp;v=1664954331925\" width=\"22\"/></div></div><div class=\"item\"><div class=\"\" style=\"position: relative;\"><img alt=\"징수의 총\" src=\"https://opgg-static.akamaized.net/images/lol/item/6676.png?image=q_auto,f_webp,w_44&amp;v=1664954331925\" width=\"22\"/></div></div><div class=\"item\"><div class=\"\" style=\"position: relative;\"><img alt=\"무한의 대검\" src=\"https://opgg-static.akamaized.net/images/lol/item/3031.png?image=q_auto,f_webp,w_44&amp;v=1664954331925\" width=\"22\"/></div></div><div class=\"item\"><div class=\"\" style=\"position: relative;\"><img alt=\"크라켄 학살자\" src=\"https://opgg-static.akamaized.net/images/lol/item/6672.png?image=q_auto,f_webp,w_44&amp;v=1664954331925\" width=\"22\"/></div></div><div class=\"item\"><div class=\"\" style=\"position: relative;\"><img alt=\"고속 연사포\" src=\"https://opgg-static.akamaized.net/images/lol/item/3094.png?image=q_auto,f_webp,w_44&amp;v=1664954331925\" width=\"22\"/></div></div><div class=\"item\"><div class=\"\" style=\"position: relative;\"><img alt=\"광전사의 군화\" src=\"https://opgg-static.akamaized.net/images/lol/item/3006.png?image=q_auto,f_webp,w_44&amp;v=1664954331925\" width=\"22\"/></div></div><div class=\"item\"><div class=\"\" style=\"position: relative;\"><img alt=\"포로 간식\" src=\"https://opgg-static.akamaized.net/images/lol/item/2052.png?image=q_auto,f_webp,w_44&amp;v=1664954331925\" width=\"22\"/></div></div></td></tr><tr class=\"css-xyqzqz e1j3rwa94\" result=\"WIN\"><td class=\"champion\"><a href=\"/champions/sett\" rel=\"noreferrer\" target=\"_blank\"><div class=\"\" style=\"position: relative;\"><img alt=\"세트\" src=\"https://opgg-static.akamaized.net/images/lol/champion/Sett.png?image=c_crop,h_103,w_103,x_9,y_9/q_auto,f_webp,w_64&amp;v=1664954331925\" width=\"32\"/><div class=\"level\">17</div></div></a></td><td class=\"spells\"><div class=\"\" style=\"position: relative;\"><img alt=\"점멸\" src=\"https://opgg-static.akamaized.net/images/lol/spell/SummonerFlash.png?image=q_auto,f_webp,w_auto&amp;v=1664954331925\"/></div><div class=\"\" style=\"position: relative;\"><img alt=\"표식\" src=\"https://opgg-static.akamaized.net/images/lol/spell/SummonerSnowball.png?image=q_auto,f_webp,w_auto&amp;v=1664954331925\"/></div></td><td class=\"runes\"><div class=\"\" style=\"position: relative;\"><img alt=\"정복자\" src=\"https://opgg-static.akamaized.net/images/lol/perk/8010.png?image=q_auto,f_webp,w_auto&amp;v=1664954331925\"/></div><div class=\"\" style=\"position: relative;\"><img alt=\"결의\" src=\"https://opgg-static.akamaized.net/images/lol/perkStyle/8400.png?image=q_auto,f_webp,w_auto&amp;v=1664954331925\"/></div></td><td class=\"name\"><a href=\"/summoners/kr/%EC%B4%88%EA%B8%89%20%ED%95%98%EB%9E%91%20%EB%B4%87\" rel=\"noreferrer\" target=\"_blank\">초급 하랑 봇</a><div class=\"tier\"><div class=\"\" style=\"position: relative;\">gold 3</div></div></td><td class=\"kda\"><div class=\"k-d-a\">9/9/21 <div class=\"\" style=\"position: relative;\">(65%)</div></div><div class=\"css-ar2iwp e1j3rwa90\">3.33:1</div></td><td class=\"damage\"><div><div class=\"\" style=\"position: relative;\"><div class=\"dealt\">31,516</div><div class=\"progress\"><div class=\"fill\" style=\"width: 74%;\"></div></div></div><div class=\"\" style=\"position: relative;\"><div class=\"taken\">35,256</div><div class=\"progress--taken\"><div class=\"fill\" style=\"width: 91%;\"></div></div></div></div></td><td class=\"ward\"><div class=\"\" style=\"position: relative;\"><div>0</div><div>0 / 0</div></div></td><td class=\"cs\"><div>34</div><div>분당 2</div></td><td class=\"items\"><div class=\"item\"><div class=\"\" style=\"position: relative;\"><img alt=\"선혈포식자\" src=\"https://opgg-static.akamaized.net/images/lol/item/6630.png?image=q_auto,f_webp,w_44&amp;v=1664954331925\" width=\"22\"/></div></div><div class=\"item\"><div class=\"\" style=\"position: relative;\"><img alt=\"판금 장화\" src=\"https://opgg-static.akamaized.net/images/lol/item/3047.png?image=q_auto,f_webp,w_44&amp;v=1664954331925\" width=\"22\"/></div></div><div class=\"item\"><div class=\"\" style=\"position: relative;\"><img alt=\"거대한 히드라\" src=\"https://opgg-static.akamaized.net/images/lol/item/3748.png?image=q_auto,f_webp,w_44&amp;v=1664954331925\" width=\"22\"/></div></div><div class=\"item\"><div class=\"\" style=\"position: relative;\"><img alt=\"탐식의 망치\" src=\"https://opgg-static.akamaized.net/images/lol/item/3044.png?image=q_auto,f_webp,w_44&amp;v=1664954331925\" width=\"22\"/></div></div><div class=\"item\"><div class=\"\" style=\"position: relative;\"><img alt=\"루비 수정\" src=\"https://opgg-static.akamaized.net/images/lol/item/1028.png?image=q_auto,f_webp,w_44&amp;v=1664954331925\" width=\"22\"/></div></div><div class=\"item\"><div class=\"\" style=\"position: relative;\"><img alt=\"곡괭이\" src=\"https://opgg-static.akamaized.net/images/lol/item/1037.png?image=q_auto,f_webp,w_44&amp;v=1664954331925\" width=\"22\"/></div></div><div class=\"item\"><div class=\"no-item\"></div></div></td></tr><tr class=\"css-12kdhht e1j3rwa94\" result=\"WIN\"><td class=\"champion\"><a href=\"/champions/teemo\" rel=\"noreferrer\" target=\"_blank\"><div class=\"\" style=\"position: relative;\"><img alt=\"티모\" src=\"https://opgg-static.akamaized.net/images/lol/champion/Teemo.png?image=c_crop,h_103,w_103,x_9,y_9/q_auto,f_webp,w_64&amp;v=1664954331925\" width=\"32\"/><div class=\"level\">16</div></div></a></td><td class=\"spells\"><div class=\"\" style=\"position: relative;\"><img alt=\"점화\" src=\"https://opgg-static.akamaized.net/images/lol/spell/SummonerDot.png?image=q_auto,f_webp,w_auto&amp;v=1664954331925\"/></div><div class=\"\" style=\"position: relative;\"><img alt=\"점멸\" src=\"https://opgg-static.akamaized.net/images/lol/spell/SummonerFlash.png?image=q_auto,f_webp,w_auto&amp;v=1664954331925\"/></div></td><td class=\"runes\"><div class=\"\" style=\"position: relative;\"><img alt=\"어둠의 수확\" src=\"https://opgg-static.akamaized.net/images/lol/perk/8128.png?image=q_auto,f_webp,w_auto&amp;v=1664954331925\"/></div><div class=\"\" style=\"position: relative;\"><img alt=\"정밀\" src=\"https://opgg-static.akamaized.net/images/lol/perkStyle/8000.png?image=q_auto,f_webp,w_auto&amp;v=1664954331925\"/></div></td><td class=\"name\"><a href=\"/summoners/kr/%EC%B0%BD%EC%9D%98%EC%A0%81%EC%82%AC%EA%B3%A0%ED%9B%88%EB%A0%A8\" rel=\"noreferrer\" target=\"_blank\">창의적사고훈련</a><div class=\"tier\"><div class=\"\" style=\"position: relative;\">bronze 2</div></div></td><td class=\"kda\"><div class=\"k-d-a\">12/10/11 <div class=\"\" style=\"position: relative;\">(50%)</div></div><div class=\"css-x36ffj e1j3rwa90\">2.30:1</div></td><td class=\"damage\"><div><div class=\"\" style=\"position: relative;\"><div class=\"dealt\">23,074</div><div class=\"progress\"><div class=\"fill\" style=\"width: 54%;\"></div></div></div><div class=\"\" style=\"position: relative;\"><div class=\"taken\">19,199</div><div class=\"progress--taken\"><div class=\"fill\" style=\"width: 50%;\"></div></div></div></div></td><td class=\"ward\"><div class=\"\" style=\"position: relative;\"><div>0</div><div>0 / 0</div></div></td><td class=\"cs\"><div>28</div><div>분당 1.6</div></td><td class=\"items\"><div class=\"item\"><div class=\"\" style=\"position: relative;\"><img alt=\"리안드리의 고뇌\" src=\"https://opgg-static.akamaized.net/images/lol/item/6653.png?image=q_auto,f_webp,w_44&amp;v=1664954331925\" width=\"22\"/></div></div><div class=\"item\"><div class=\"\" style=\"position: relative;\"><img alt=\"마법사의 신발\" src=\"https://opgg-static.akamaized.net/images/lol/item/3020.png?image=q_auto,f_webp,w_44&amp;v=1664954331925\" width=\"22\"/></div></div><div class=\"item\"><div class=\"\" style=\"position: relative;\"><img alt=\"악마의 포옹\" src=\"https://opgg-static.akamaized.net/images/lol/item/4637.png?image=q_auto,f_webp,w_44&amp;v=1664954331925\" width=\"22\"/></div></div><div class=\"item\"><div class=\"\" style=\"position: relative;\"><img alt=\"라바돈의 죽음모자\" src=\"https://opgg-static.akamaized.net/images/lol/item/3089.png?image=q_auto,f_webp,w_44&amp;v=1664954331925\" width=\"22\"/></div></div><div class=\"item\"><div class=\"\" style=\"position: relative;\"><img alt=\"에테르 환영\" src=\"https://opgg-static.akamaized.net/images/lol/item/3113.png?image=q_auto,f_webp,w_44&amp;v=1664954331925\" width=\"22\"/></div></div><div class=\"item\"><div class=\"no-item\"></div></div><div class=\"item\"><div class=\"no-item\"></div></div></td></tr></tbody></table><div class=\"summary\"><div class=\"team\"><div class=\"object\"><div class=\"\" style=\"position: relative;\"><img alt=\"바론\" src=\"https://s-lol-web.op.gg/images/icon/icon-baron.svg?v=1664954331925\"/><span>0</span></div></div><div class=\"object\"><div class=\"\" style=\"position: relative;\"><img alt=\"드래곤\" src=\"https://s-lol-web.op.gg/images/icon/icon-dragon.svg?v=1664954331925\"/><span>0</span></div></div><div class=\"object\"><div class=\"\" style=\"position: relative;\"><img alt=\"타워\" src=\"https://s-lol-web.op.gg/images/icon/icon-tower.svg?v=1664954331925\"/><span>4</span></div></div></div><div class=\"summary-graph\"><div><div class=\"graph\"><div class=\"title\">Total Kill</div><div class=\"data-left\">46</div><div class=\"data-right\">44</div><div class=\"win\" style=\"flex: 1 1 51%;\"></div><div class=\"lose\" style=\"flex: 1 1 49%;\"></div></div></div><div><div class=\"graph\"><div class=\"title\">Total Gold</div><div class=\"data-left\">62,532</div><div class=\"data-right\">60,510</div><div class=\"win\" style=\"flex: 1 1 51%;\"></div><div class=\"lose\" style=\"flex: 1 1 49%;\"></div></div></div></div><div class=\"team\"><div class=\"object\"><div class=\"\" style=\"position: relative;\"><img alt=\"바론\" src=\"https://s-lol-web.op.gg/images/icon/icon-baron-r.svg?v=1664954331925\"/><span>0</span></div></div><div class=\"object\"><div class=\"\" style=\"position: relative;\"><img alt=\"드래곤\" src=\"https://s-lol-web.op.gg/images/icon/icon-dragon-r.svg?v=1664954331925\"/><span>0</span></div></div><div class=\"object\"><div class=\"\" style=\"position: relative;\"><img alt=\"타워\" src=\"https://s-lol-web.op.gg/images/icon/icon-tower-r.svg?v=1664954331925\"/><span>0</span></div></div></div></div><table class=\"css-8keylx e15ptgz10\" result=\"LOSE\"><colgroup><col width=\"44\"/><col width=\"18\"/><col width=\"18\"/><col/><col width=\"98\"/><col width=\"120\"/><col width=\"48\"/><col width=\"56\"/><col width=\"175\"/></colgroup><thead><tr><th colspan=\"4\"><span class=\"result\">패배</span>(레드팀)</th><th>KDA</th><th>피해량</th><th>와드</th><th>CS</th><th>아이템</th></tr></thead><tbody><tr class=\"css-1lb4d66 e1j3rwa94\" result=\"LOSE\"><td class=\"champion\"><a href=\"/champions/swain\" rel=\"noreferrer\" target=\"_blank\"><div class=\"\" style=\"position: relative;\"><img alt=\"스웨인\" src=\"https://opgg-static.akamaized.net/images/lol/champion/Swain.png?image=c_crop,h_103,w_103,x_9,y_9/q_auto,f_webp,w_64&amp;v=1664954331925\" width=\"32\"/><div class=\"level\">15</div></div></a></td><td class=\"spells\"><div class=\"\" style=\"position: relative;\"><img alt=\"표식\" src=\"https://opgg-static.akamaized.net/images/lol/spell/SummonerSnowball.png?image=q_auto,f_webp,w_auto&amp;v=1664954331925\"/></div><div class=\"\" style=\"position: relative;\"><img alt=\"점멸\" src=\"https://opgg-static.akamaized.net/images/lol/spell/SummonerFlash.png?image=q_auto,f_webp,w_auto&amp;v=1664954331925\"/></div></td><td class=\"runes\"><div class=\"\" style=\"position: relative;\"><img alt=\"정복자\" src=\"https://opgg-static.akamaized.net/images/lol/perk/8010.png?image=q_auto,f_webp,w_auto&amp;v=1664954331925\"/></div><div class=\"\" style=\"position: relative;\"><img alt=\"지배\" src=\"https://opgg-static.akamaized.net/images/lol/perkStyle/8100.png?image=q_auto,f_webp,w_auto&amp;v=1664954331925\"/></div></td><td class=\"name\"><a href=\"/summoners/kr/%EC%8B%9C%EA%B0%80%EC%86%8C%EC%84%B8%EC%A7%80\" rel=\"noreferrer\" target=\"_blank\">시가소세지</a><div class=\"tier\">Level 70</div></td><td class=\"kda\"><div class=\"k-d-a\">3/12/23 <div class=\"\" style=\"position: relative;\">(59%)</div></div><div class=\"css-x36ffj e1j3rwa90\">2.17:1</div></td><td class=\"damage\"><div><div class=\"\" style=\"position: relative;\"><div class=\"dealt\">15,058</div><div class=\"progress\"><div class=\"fill\" style=\"width: 35%;\"></div></div></div><div class=\"\" style=\"position: relative;\"><div class=\"taken\">38,743</div><div class=\"progress--taken\"><div class=\"fill\" style=\"width: 100%;\"></div></div></div></div></td><td class=\"ward\"><div class=\"\" style=\"position: relative;\"><div>0</div><div>0 / 0</div></div></td><td class=\"cs\"><div>28</div><div>분당 1.6</div></td><td class=\"items\"><div class=\"item\"><div class=\"\" style=\"position: relative;\"><img alt=\"망가진 초시계\" src=\"https://opgg-static.akamaized.net/images/lol/item/2421.png?image=q_auto,f_webp,w_44&amp;v=1664954331925\" width=\"22\"/></div></div><div class=\"item\"><div class=\"\" style=\"position: relative;\"><img alt=\"정령의 형상\" src=\"https://opgg-static.akamaized.net/images/lol/item/3065.png?image=q_auto,f_webp,w_44&amp;v=1664954331925\" width=\"22\"/></div></div><div class=\"item\"><div class=\"\" style=\"position: relative;\"><img alt=\"마법사의 신발\" src=\"https://opgg-static.akamaized.net/images/lol/item/3020.png?image=q_auto,f_webp,w_44&amp;v=1664954331925\" width=\"22\"/></div></div><div class=\"item\"><div class=\"\" style=\"position: relative;\"><img alt=\"리안드리의 고뇌\" src=\"https://opgg-static.akamaized.net/images/lol/item/6653.png?image=q_auto,f_webp,w_44&amp;v=1664954331925\" width=\"22\"/></div></div><div class=\"item\"><div class=\"\" style=\"position: relative;\"><img alt=\"추적자의 팔목 보호대\" src=\"https://opgg-static.akamaized.net/images/lol/item/3191.png?image=q_auto,f_webp,w_44&amp;v=1664954331925\" width=\"22\"/></div></div><div class=\"item\"><div class=\"\" style=\"position: relative;\"><img alt=\"증폭의 고서\" src=\"https://opgg-static.akamaized.net/images/lol/item/1052.png?image=q_auto,f_webp,w_44&amp;v=1664954331925\" width=\"22\"/></div></div><div class=\"item\"><div class=\"\" style=\"position: relative;\"><img alt=\"포로 간식\" src=\"https://opgg-static.akamaized.net/images/lol/item/2052.png?image=q_auto,f_webp,w_44&amp;v=1664954331925\" width=\"22\"/></div></div></td></tr><tr class=\"css-1lb4d66 e1j3rwa94\" result=\"LOSE\"><td class=\"champion\"><a href=\"/champions/pyke\" rel=\"noreferrer\" target=\"_blank\"><div class=\"\" style=\"position: relative;\"><img alt=\"파이크\" src=\"https://opgg-static.akamaized.net/images/lol/champion/Pyke.png?image=c_crop,h_103,w_103,x_9,y_9/q_auto,f_webp,w_64&amp;v=1664954331925\" width=\"32\"/><div class=\"level\">15</div></div></a></td><td class=\"spells\"><div class=\"\" style=\"position: relative;\"><img alt=\"점멸\" src=\"https://opgg-static.akamaized.net/images/lol/spell/SummonerFlash.png?image=q_auto,f_webp,w_auto&amp;v=1664954331925\"/></div><div class=\"\" style=\"position: relative;\"><img alt=\"표식\" src=\"https://opgg-static.akamaized.net/images/lol/spell/SummonerSnowball.png?image=q_auto,f_webp,w_auto&amp;v=1664954331925\"/></div></td><td class=\"runes\"><div class=\"\" style=\"position: relative;\"><img alt=\"칼날비\" src=\"https://opgg-static.akamaized.net/images/lol/perk/9923.png?image=q_auto,f_webp,w_auto&amp;v=1664954331925\"/></div><div class=\"\" style=\"position: relative;\"><img alt=\"정밀\" src=\"https://opgg-static.akamaized.net/images/lol/perkStyle/8000.png?image=q_auto,f_webp,w_auto&amp;v=1664954331925\"/></div></td><td class=\"name\"><a href=\"/summoners/kr/luk1jhr7ls\" rel=\"noreferrer\" target=\"_blank\">luk1jhr7ls</a><div class=\"tier\"><div class=\"\" style=\"position: relative;\">silver 3</div></div></td><td class=\"kda\"><div class=\"k-d-a\">6/10/21 <div class=\"\" style=\"position: relative;\">(61%)</div></div><div class=\"css-x36ffj e1j3rwa90\">2.70:1</div></td><td class=\"damage\"><div><div class=\"\" style=\"position: relative;\"><div class=\"dealt\">16,486</div><div class=\"progress\"><div class=\"fill\" style=\"width: 39%;\"></div></div></div><div class=\"\" style=\"position: relative;\"><div class=\"taken\">25,022</div><div class=\"progress--taken\"><div class=\"fill\" style=\"width: 65%;\"></div></div></div></div></td><td class=\"ward\"><div class=\"\" style=\"position: relative;\"><div>0</div><div>0 / 0</div></div></td><td class=\"cs\"><div>9</div><div>분당 0.5</div></td><td class=\"items\"><div class=\"item\"><div class=\"\" style=\"position: relative;\"><img alt=\"드락사르의 황혼검\" src=\"https://opgg-static.akamaized.net/images/lol/item/6691.png?image=q_auto,f_webp,w_44&amp;v=1664954331925\" width=\"22\"/></div></div><div class=\"item\"><div class=\"\" style=\"position: relative;\"><img alt=\"명석함의 아이오니아 장화\" src=\"https://opgg-static.akamaized.net/images/lol/item/3158.png?image=q_auto,f_webp,w_44&amp;v=1664954331925\" width=\"22\"/></div></div><div class=\"item\"><div class=\"\" style=\"position: relative;\"><img alt=\"원칙의 원형낫\" src=\"https://opgg-static.akamaized.net/images/lol/item/6696.png?image=q_auto,f_webp,w_44&amp;v=1664954331925\" width=\"22\"/></div></div><div class=\"item\"><div class=\"\" style=\"position: relative;\"><img alt=\"징수의 총\" src=\"https://opgg-static.akamaized.net/images/lol/item/6676.png?image=q_auto,f_webp,w_44&amp;v=1664954331925\" width=\"22\"/></div></div><div class=\"item\"><div class=\"\" style=\"position: relative;\"><img alt=\"롱소드\" src=\"https://opgg-static.akamaized.net/images/lol/item/1036.png?image=q_auto,f_webp,w_44&amp;v=1664954331925\" width=\"22\"/></div></div><div class=\"item\"><div class=\"no-item\"></div></div><div class=\"item\"><div class=\"no-item\"></div></div></td></tr><tr class=\"css-1lb4d66 e1j3rwa94\" result=\"LOSE\"><td class=\"champion\"><a href=\"/champions/draven\" rel=\"noreferrer\" target=\"_blank\"><div class=\"\" style=\"position: relative;\"><img alt=\"드레이븐\" src=\"https://opgg-static.akamaized.net/images/lol/champion/Draven.png?image=c_crop,h_103,w_103,x_9,y_9/q_auto,f_webp,w_64&amp;v=1664954331925\" width=\"32\"/><div class=\"level\">15</div></div></a></td><td class=\"spells\"><div class=\"\" style=\"position: relative;\"><img alt=\"정화\" src=\"https://opgg-static.akamaized.net/images/lol/spell/SummonerBoost.png?image=q_auto,f_webp,w_auto&amp;v=1664954331925\"/></div><div class=\"\" style=\"position: relative;\"><img alt=\"점멸\" src=\"https://opgg-static.akamaized.net/images/lol/spell/SummonerFlash.png?image=q_auto,f_webp,w_auto&amp;v=1664954331925\"/></div></td><td class=\"runes\"><div class=\"\" style=\"position: relative;\"><img alt=\"치명적 속도\" src=\"https://opgg-static.akamaized.net/images/lol/perk/8008.png?image=q_auto,f_webp,w_auto&amp;v=1664954331925\"/></div><div class=\"\" style=\"position: relative;\"><img alt=\"지배\" src=\"https://opgg-static.akamaized.net/images/lol/perkStyle/8100.png?image=q_auto,f_webp,w_auto&amp;v=1664954331925\"/></div></td><td class=\"name\"><a href=\"/summoners/kr/%EA%B8%B0%EB%A7%88%EB%A6%AC%EB%AF%B8%EB%A6%AC%EB%AF%B8\" rel=\"noreferrer\" target=\"_blank\">기마리미리미</a><div class=\"tier\"><div class=\"\" style=\"position: relative;\">bronze 4</div></div></td><td class=\"kda\"><div class=\"k-d-a\">7/10/14 <div class=\"\" style=\"position: relative;\">(48%)</div></div><div class=\"css-x36ffj e1j3rwa90\">2.10:1</div></td><td class=\"damage\"><div><div class=\"\" style=\"position: relative;\"><div class=\"dealt\">21,316</div><div class=\"progress\"><div class=\"fill\" style=\"width: 50%;\"></div></div></div><div class=\"\" style=\"position: relative;\"><div class=\"taken\">25,443</div><div class=\"progress--taken\"><div class=\"fill\" style=\"width: 66%;\"></div></div></div></div></td><td class=\"ward\"><div class=\"\" style=\"position: relative;\"><div>0</div><div>0 / 0</div></div></td><td class=\"cs\"><div>65</div><div>분당 3.8</div></td><td class=\"items\"><div class=\"item\"><div class=\"\" style=\"position: relative;\"><img alt=\"불멸의 철갑궁\" src=\"https://opgg-static.akamaized.net/images/lol/item/6673.png?image=q_auto,f_webp,w_44&amp;v=1664954331925\" width=\"22\"/></div></div><div class=\"item\"><div class=\"\" style=\"position: relative;\"><img alt=\"고속 연사포\" src=\"https://opgg-static.akamaized.net/images/lol/item/3094.png?image=q_auto,f_webp,w_44&amp;v=1664954331925\" width=\"22\"/></div></div><div class=\"item\"><div class=\"\" style=\"position: relative;\"><img alt=\"정수 약탈자\" src=\"https://opgg-static.akamaized.net/images/lol/item/3508.png?image=q_auto,f_webp,w_44&amp;v=1664954331925\" width=\"22\"/></div></div><div class=\"item\"><div class=\"\" style=\"position: relative;\"><img alt=\"헤르메스의 발걸음\" src=\"https://opgg-static.akamaized.net/images/lol/item/3111.png?image=q_auto,f_webp,w_44&amp;v=1664954331925\" width=\"22\"/></div></div><div class=\"item\"><div class=\"\" style=\"position: relative;\"><img alt=\"곡궁\" src=\"https://opgg-static.akamaized.net/images/lol/item/1043.png?image=q_auto,f_webp,w_44&amp;v=1664954331925\" width=\"22\"/></div></div><div class=\"item\"><div class=\"\" style=\"position: relative;\"><img alt=\"흡혈의 낫\" src=\"https://opgg-static.akamaized.net/images/lol/item/1053.png?image=q_auto,f_webp,w_44&amp;v=1664954331925\" width=\"22\"/></div></div><div class=\"item\"><div class=\"no-item\"></div></div></td></tr><tr class=\"css-1lb4d66 e1j3rwa94\" result=\"LOSE\"><td class=\"champion\"><a href=\"/champions/fizz\" rel=\"noreferrer\" target=\"_blank\"><div class=\"\" style=\"position: relative;\"><img alt=\"피즈\" src=\"https://opgg-static.akamaized.net/images/lol/champion/Fizz.png?image=c_crop,h_103,w_103,x_9,y_9/q_auto,f_webp,w_64&amp;v=1664954331925\" width=\"32\"/><div class=\"level\">16</div></div></a></td><td class=\"spells\"><div class=\"\" style=\"position: relative;\"><img alt=\"점멸\" src=\"https://opgg-static.akamaized.net/images/lol/spell/SummonerFlash.png?image=q_auto,f_webp,w_auto&amp;v=1664954331925\"/></div><div class=\"\" style=\"position: relative;\"><img alt=\"표식\" src=\"https://opgg-static.akamaized.net/images/lol/spell/SummonerSnowball.png?image=q_auto,f_webp,w_auto&amp;v=1664954331925\"/></div></td><td class=\"runes\"><div class=\"\" style=\"position: relative;\"><img alt=\"어둠의 수확\" src=\"https://opgg-static.akamaized.net/images/lol/perk/8128.png?image=q_auto,f_webp,w_auto&amp;v=1664954331925\"/></div><div class=\"\" style=\"position: relative;\"><img alt=\"정밀\" src=\"https://opgg-static.akamaized.net/images/lol/perkStyle/8000.png?image=q_auto,f_webp,w_auto&amp;v=1664954331925\"/></div></td><td class=\"name\"><a href=\"/summoners/kr/%EC%82%BC%EB%8C%80%EC%A7%B8%ED%9D%91%EC%9D%B8\" rel=\"noreferrer\" target=\"_blank\">삼대째흑인</a><div class=\"tier\">Level 197</div></td><td class=\"kda\"><div class=\"k-d-a\">21/8/11 <div class=\"\" style=\"position: relative;\">(73%)</div></div><div class=\"css-19ahfr4 e1j3rwa90\">4.00:1</div></td><td class=\"damage\"><div><div class=\"\" style=\"position: relative;\"><div class=\"dealt\">30,455</div><div class=\"progress\"><div class=\"fill\" style=\"width: 71%;\"></div></div></div><div class=\"\" style=\"position: relative;\"><div class=\"taken\">23,710</div><div class=\"progress--taken\"><div class=\"fill\" style=\"width: 61%;\"></div></div></div></div></td><td class=\"ward\"><div class=\"\" style=\"position: relative;\"><div>0</div><div>0 / 0</div></div></td><td class=\"cs\"><div>28</div><div>분당 1.6</div></td><td class=\"items\"><div class=\"item\"><div class=\"\" style=\"position: relative;\"><img alt=\"마법공학 로켓 벨트\" src=\"https://opgg-static.akamaized.net/images/lol/item/3152.png?image=q_auto,f_webp,w_44&amp;v=1664954331925\" width=\"22\"/></div></div><div class=\"item\"><div class=\"\" style=\"position: relative;\"><img alt=\"마법사의 신발\" src=\"https://opgg-static.akamaized.net/images/lol/item/3020.png?image=q_auto,f_webp,w_44&amp;v=1664954331925\" width=\"22\"/></div></div><div class=\"item\"><div class=\"\" style=\"position: relative;\"><img alt=\"존야의 모래시계\" src=\"https://opgg-static.akamaized.net/images/lol/item/3157.png?image=q_auto,f_webp,w_44&amp;v=1664954331925\" width=\"22\"/></div></div><div class=\"item\"><div class=\"\" style=\"position: relative;\"><img alt=\"리치베인\" src=\"https://opgg-static.akamaized.net/images/lol/item/3100.png?image=q_auto,f_webp,w_44&amp;v=1664954331925\" width=\"22\"/></div></div><div class=\"item\"><div class=\"\" style=\"position: relative;\"><img alt=\"그림자불꽃\" src=\"https://opgg-static.akamaized.net/images/lol/item/4645.png?image=q_auto,f_webp,w_44&amp;v=1664954331925\" width=\"22\"/></div></div><div class=\"item\"><div class=\"\" style=\"position: relative;\"><img alt=\"망각의 구\" src=\"https://opgg-static.akamaized.net/images/lol/item/3916.png?image=q_auto,f_webp,w_44&amp;v=1664954331925\" width=\"22\"/></div></div><div class=\"item\"><div class=\"\" style=\"position: relative;\"><img alt=\"포로 간식\" src=\"https://opgg-static.akamaized.net/images/lol/item/2052.png?image=q_auto,f_webp,w_44&amp;v=1664954331925\" width=\"22\"/></div></div></td></tr><tr class=\"css-1lb4d66 e1j3rwa94\" result=\"LOSE\"><td class=\"champion\"><a href=\"/champions/zilean\" rel=\"noreferrer\" target=\"_blank\"><div class=\"\" style=\"position: relative;\"><img alt=\"질리언\" src=\"https://opgg-static.akamaized.net/images/lol/champion/Zilean.png?image=c_crop,h_103,w_103,x_9,y_9/q_auto,f_webp,w_64&amp;v=1664954331925\" width=\"32\"/><div class=\"level\">17</div></div></a></td><td class=\"spells\"><div class=\"\" style=\"position: relative;\"><img alt=\"점멸\" src=\"https://opgg-static.akamaized.net/images/lol/spell/SummonerFlash.png?image=q_auto,f_webp,w_auto&amp;v=1664954331925\"/></div><div class=\"\" style=\"position: relative;\"><img alt=\"총명\" src=\"https://opgg-static.akamaized.net/images/lol/spell/SummonerMana.png?image=q_auto,f_webp,w_auto&amp;v=1664954331925\"/></div></td><td class=\"runes\"><div class=\"\" style=\"position: relative;\"><img alt=\"어둠의 수확\" src=\"https://opgg-static.akamaized.net/images/lol/perk/8128.png?image=q_auto,f_webp,w_auto&amp;v=1664954331925\"/></div><div class=\"\" style=\"position: relative;\"><img alt=\"정밀\" src=\"https://opgg-static.akamaized.net/images/lol/perkStyle/8000.png?image=q_auto,f_webp,w_auto&amp;v=1664954331925\"/></div></td><td class=\"name\"><a href=\"/summoners/kr/Cjamm%EC%94%A8%EC%9E%BC\" rel=\"noreferrer\" target=\"_blank\">Cjamm씨잼</a><div class=\"tier\"><div class=\"\" style=\"position: relative;\">silver 2</div></div></td><td class=\"kda\"><div class=\"k-d-a\">7/6/26 <div class=\"\" style=\"position: relative;\">(75%)</div></div><div class=\"css-ufjp55 e1j3rwa90\">5.50:1</div></td><td class=\"damage\"><div><div class=\"\" style=\"position: relative;\"><div class=\"dealt\">22,482</div><div class=\"progress\"><div class=\"fill\" style=\"width: 53%;\"></div></div></div><div class=\"\" style=\"position: relative;\"><div class=\"taken\">13,671</div><div class=\"progress--taken\"><div class=\"fill\" style=\"width: 35%;\"></div></div></div></div></td><td class=\"ward\"><div class=\"\" style=\"position: relative;\"><div>0</div><div>0 / 0</div></div></td><td class=\"cs\"><div>43</div><div>분당 2.5</div></td><td class=\"items\"><div class=\"item\"><div class=\"\" style=\"position: relative;\"><img alt=\"여신의 눈물\" src=\"https://opgg-static.akamaized.net/images/lol/item/3070.png?image=q_auto,f_webp,w_44&amp;v=1664954331925\" width=\"22\"/></div></div><div class=\"item\"><div class=\"\" style=\"position: relative;\"><img alt=\"화학공학 부패기\" src=\"https://opgg-static.akamaized.net/images/lol/item/3011.png?image=q_auto,f_webp,w_44&amp;v=1664954331925\" width=\"22\"/></div></div><div class=\"item\"><div class=\"\" style=\"position: relative;\"><img alt=\"루덴의 폭풍\" src=\"https://opgg-static.akamaized.net/images/lol/item/6655.png?image=q_auto,f_webp,w_44&amp;v=1664954331925\" width=\"22\"/></div></div><div class=\"item\"><div class=\"\" style=\"position: relative;\"><img alt=\"명석함의 아이오니아 장화\" src=\"https://opgg-static.akamaized.net/images/lol/item/3158.png?image=q_auto,f_webp,w_44&amp;v=1664954331925\" width=\"22\"/></div></div><div class=\"item\"><div class=\"\" style=\"position: relative;\"><img alt=\"우주의 추진력\" src=\"https://opgg-static.akamaized.net/images/lol/item/4629.png?image=q_auto,f_webp,w_44&amp;v=1664954331925\" width=\"22\"/></div></div><div class=\"item\"><div class=\"\" style=\"position: relative;\"><img alt=\"점화석\" src=\"https://opgg-static.akamaized.net/images/lol/item/3067.png?image=q_auto,f_webp,w_44&amp;v=1664954331925\" width=\"22\"/></div></div><div class=\"item\"><div class=\"no-item\"></div></div></td></tr></tbody></table></div></div>\n"
     ]
    }
   ],
   "source": [
    "print(gameLists[1])"
   ]
  },
  {
   "cell_type": "code",
   "execution_count": 13,
   "id": "a5a0a768",
   "metadata": {},
   "outputs": [
    {
     "data": {
      "text/plain": [
       "bs4.element.Tag"
      ]
     },
     "execution_count": 13,
     "metadata": {},
     "output_type": "execute_result"
    }
   ],
   "source": [
    "type(gameLists[1])"
   ]
  },
  {
   "cell_type": "code",
   "execution_count": 14,
   "id": "c854dc26",
   "metadata": {},
   "outputs": [],
   "source": [
    "gameInfo = gameLists[1].findChild('tbody')"
   ]
  },
  {
   "cell_type": "code",
   "execution_count": 15,
   "id": "52c48bd0",
   "metadata": {},
   "outputs": [
    {
     "name": "stdout",
     "output_type": "stream",
     "text": [
      "<tbody><tr class=\"css-12kdhht e1j3rwa94\" result=\"WIN\"><td class=\"champion\"><a href=\"/champions/soraka\" rel=\"noreferrer\" target=\"_blank\"><div class=\"\" style=\"position: relative;\"><img alt=\"소라카\" src=\"https://opgg-static.akamaized.net/images/lol/champion/Soraka.png?image=c_crop,h_103,w_103,x_9,y_9/q_auto,f_webp,w_64&amp;v=1664954331925\" width=\"32\"/><div class=\"level\">18</div></div></a></td><td class=\"spells\"><div class=\"\" style=\"position: relative;\"><img alt=\"총명\" src=\"https://opgg-static.akamaized.net/images/lol/spell/SummonerMana.png?image=q_auto,f_webp,w_auto&amp;v=1664954331925\"/></div><div class=\"\" style=\"position: relative;\"><img alt=\"점멸\" src=\"https://opgg-static.akamaized.net/images/lol/spell/SummonerFlash.png?image=q_auto,f_webp,w_auto&amp;v=1664954331925\"/></div></td><td class=\"runes\"><div class=\"\" style=\"position: relative;\"><img alt=\"신비로운 유성\" src=\"https://opgg-static.akamaized.net/images/lol/perk/8229.png?image=q_auto,f_webp,w_auto&amp;v=1664954331925\"/></div><div class=\"\" style=\"position: relative;\"><img alt=\"지배\" src=\"https://opgg-static.akamaized.net/images/lol/perkStyle/8100.png?image=q_auto,f_webp,w_auto&amp;v=1664954331925\"/></div></td><td class=\"name\"><a href=\"/summoners/kr/%EC%A1%B4%EC%9E%AC%ED%95%98%EB%8A%94%20%EB%8B%89%EB%84%A4%EC%9E%84\" rel=\"noreferrer\" target=\"_blank\">존재하는 닉네임</a><div class=\"tier\">Level 191</div></td><td class=\"kda\"><div class=\"k-d-a\">3/3/36 <div class=\"\" style=\"position: relative;\">(85%)</div></div><div class=\"css-ufjp55 e1j3rwa90\">13.00:1</div></td><td class=\"damage\"><div><div class=\"\" style=\"position: relative;\"><div class=\"dealt\">15,469</div><div class=\"progress\"><div class=\"fill\" style=\"width: 36%;\"></div></div></div><div class=\"\" style=\"position: relative;\"><div class=\"taken\">12,211</div><div class=\"progress--taken\"><div class=\"fill\" style=\"width: 32%;\"></div></div></div></div></td><td class=\"ward\"><div class=\"\" style=\"position: relative;\"><div>0</div><div>0 / 0</div></div></td><td class=\"cs\"><div>14</div><div>분당 0.8</div></td><td class=\"items\"><div class=\"item\"><div class=\"\" style=\"position: relative;\"><img alt=\"에테르 환영\" src=\"https://opgg-static.akamaized.net/images/lol/item/3113.png?image=q_auto,f_webp,w_44&amp;v=1664954331925\" width=\"22\"/></div></div><div class=\"item\"><div class=\"\" style=\"position: relative;\"><img alt=\"밤의 수확자\" src=\"https://opgg-static.akamaized.net/images/lol/item/4636.png?image=q_auto,f_webp,w_44&amp;v=1664954331925\" width=\"22\"/></div></div><div class=\"item\"><div class=\"\" style=\"position: relative;\"><img alt=\"악마의 마법서\" src=\"https://opgg-static.akamaized.net/images/lol/item/3108.png?image=q_auto,f_webp,w_44&amp;v=1664954331925\" width=\"22\"/></div></div><div class=\"item\"><div class=\"\" style=\"position: relative;\"><img alt=\"명석함의 아이오니아 장화\" src=\"https://opgg-static.akamaized.net/images/lol/item/3158.png?image=q_auto,f_webp,w_44&amp;v=1664954331925\" width=\"22\"/></div></div><div class=\"item\"><div class=\"\" style=\"position: relative;\"><img alt=\"루비 수정\" src=\"https://opgg-static.akamaized.net/images/lol/item/1028.png?image=q_auto,f_webp,w_44&amp;v=1664954331925\" width=\"22\"/></div></div><div class=\"item\"><div class=\"no-item\"></div></div><div class=\"item\"><div class=\"\" style=\"position: relative;\"><img alt=\"포로 간식\" src=\"https://opgg-static.akamaized.net/images/lol/item/2052.png?image=q_auto,f_webp,w_44&amp;v=1664954331925\" width=\"22\"/></div></div></td></tr><tr class=\"css-12kdhht e1j3rwa94\" result=\"WIN\"><td class=\"champion\"><a href=\"/champions/janna\" rel=\"noreferrer\" target=\"_blank\"><div class=\"\" style=\"position: relative;\"><img alt=\"잔나\" src=\"https://opgg-static.akamaized.net/images/lol/champion/Janna.png?image=c_crop,h_103,w_103,x_9,y_9/q_auto,f_webp,w_64&amp;v=1664954331925\" width=\"32\"/><div class=\"level\">15</div></div></a></td><td class=\"spells\"><div class=\"\" style=\"position: relative;\"><img alt=\"점멸\" src=\"https://opgg-static.akamaized.net/images/lol/spell/SummonerFlash.png?image=q_auto,f_webp,w_auto&amp;v=1664954331925\"/></div><div class=\"\" style=\"position: relative;\"><img alt=\"탈진\" src=\"https://opgg-static.akamaized.net/images/lol/spell/SummonerExhaust.png?image=q_auto,f_webp,w_auto&amp;v=1664954331925\"/></div></td><td class=\"runes\"><div class=\"\" style=\"position: relative;\"><img alt=\"빙결 강화\" src=\"https://opgg-static.akamaized.net/images/lol/perk/8351.png?image=q_auto,f_webp,w_auto&amp;v=1664954331925\"/></div><div class=\"\" style=\"position: relative;\"><img alt=\"정밀\" src=\"https://opgg-static.akamaized.net/images/lol/perkStyle/8000.png?image=q_auto,f_webp,w_auto&amp;v=1664954331925\"/></div></td><td class=\"name\"><a href=\"/summoners/kr/GAVISCON31\" rel=\"noreferrer\" target=\"_blank\">GAVISCON31</a><div class=\"tier\">Level 124</div></td><td class=\"kda\"><div class=\"k-d-a\">0/11/22 <div class=\"\" style=\"position: relative;\">(48%)</div></div><div class=\"css-x36ffj e1j3rwa90\">2.00:1</div></td><td class=\"damage\"><div><div class=\"\" style=\"position: relative;\"><div class=\"dealt\">5,425</div><div class=\"progress\"><div class=\"fill\" style=\"width: 13%;\"></div></div></div><div class=\"\" style=\"position: relative;\"><div class=\"taken\">20,412</div><div class=\"progress--taken\"><div class=\"fill\" style=\"width: 53%;\"></div></div></div></div></td><td class=\"ward\"><div class=\"\" style=\"position: relative;\"><div>0</div><div>0 / 0</div></div></td><td class=\"cs\"><div>13</div><div>분당 0.8</div></td><td class=\"items\"><div class=\"item\"><div class=\"\" style=\"position: relative;\"><img alt=\"월석 재생기\" src=\"https://opgg-static.akamaized.net/images/lol/item/6617.png?image=q_auto,f_webp,w_44&amp;v=1664954331925\" width=\"22\"/></div></div><div class=\"item\"><div class=\"\" style=\"position: relative;\"><img alt=\"대천사의 포옹\" src=\"https://opgg-static.akamaized.net/images/lol/item/3040.png?image=q_auto,f_webp,w_44&amp;v=1664954331925\" width=\"22\"/></div></div><div class=\"item\"><div class=\"\" style=\"position: relative;\"><img alt=\"명석함의 아이오니아 장화\" src=\"https://opgg-static.akamaized.net/images/lol/item/3158.png?image=q_auto,f_webp,w_44&amp;v=1664954331925\" width=\"22\"/></div></div><div class=\"item\"><div class=\"\" style=\"position: relative;\"><img alt=\"화학공학 부패기\" src=\"https://opgg-static.akamaized.net/images/lol/item/3011.png?image=q_auto,f_webp,w_44&amp;v=1664954331925\" width=\"22\"/></div></div><div class=\"item\"><div class=\"\" style=\"position: relative;\"><img alt=\"점화석\" src=\"https://opgg-static.akamaized.net/images/lol/item/3067.png?image=q_auto,f_webp,w_44&amp;v=1664954331925\" width=\"22\"/></div></div><div class=\"item\"><div class=\"no-item\"></div></div><div class=\"item\"><div class=\"\" style=\"position: relative;\"><img alt=\"포로 간식\" src=\"https://opgg-static.akamaized.net/images/lol/item/2052.png?image=q_auto,f_webp,w_44&amp;v=1664954331925\" width=\"22\"/></div></div></td></tr><tr class=\"css-12kdhht e1j3rwa94\" result=\"WIN\"><td class=\"champion\"><a href=\"/champions/missfortune\" rel=\"noreferrer\" target=\"_blank\"><div class=\"\" style=\"position: relative;\"><img alt=\"미스 포츈\" src=\"https://opgg-static.akamaized.net/images/lol/champion/MissFortune.png?image=c_crop,h_103,w_103,x_9,y_9/q_auto,f_webp,w_64&amp;v=1664954331925\" width=\"32\"/><div class=\"level\">16</div></div></a></td><td class=\"spells\"><div class=\"\" style=\"position: relative;\"><img alt=\"정화\" src=\"https://opgg-static.akamaized.net/images/lol/spell/SummonerBoost.png?image=q_auto,f_webp,w_auto&amp;v=1664954331925\"/></div><div class=\"\" style=\"position: relative;\"><img alt=\"점멸\" src=\"https://opgg-static.akamaized.net/images/lol/spell/SummonerFlash.png?image=q_auto,f_webp,w_auto&amp;v=1664954331925\"/></div></td><td class=\"runes\"><div class=\"\" style=\"position: relative;\"><img alt=\"집중 공격\" src=\"https://opgg-static.akamaized.net/images/lol/perk/8005.png?image=q_auto,f_webp,w_auto&amp;v=1664954331925\"/></div><div class=\"\" style=\"position: relative;\"><img alt=\"지배\" src=\"https://opgg-static.akamaized.net/images/lol/perkStyle/8100.png?image=q_auto,f_webp,w_auto&amp;v=1664954331925\"/></div></td><td class=\"name\"><a href=\"/summoners/kr/%ED%95%98%EB%A7%88%EB%B2%A0\" rel=\"noreferrer\" target=\"_blank\">하마베</a><div class=\"tier\">Level 210</div></td><td class=\"kda\"><div class=\"k-d-a\">22/11/16 <div class=\"\" style=\"position: relative;\">(83%)</div></div><div class=\"css-ar2iwp e1j3rwa90\">3.45:1</div></td><td class=\"damage\"><div><div class=\"\" style=\"position: relative;\"><div class=\"dealt\">42,620</div><div class=\"progress\"><div class=\"fill\" style=\"width: 100%;\"></div></div></div><div class=\"\" style=\"position: relative;\"><div class=\"taken\">25,917</div><div class=\"progress--taken\"><div class=\"fill\" style=\"width: 67%;\"></div></div></div></div></td><td class=\"ward\"><div class=\"\" style=\"position: relative;\"><div>0</div><div>0 / 0</div></div></td><td class=\"cs\"><div>86</div><div>분당 5</div></td><td class=\"items\"><div class=\"item\"><div class=\"\" style=\"position: relative;\"><img alt=\"피바라기\" src=\"https://opgg-static.akamaized.net/images/lol/item/3072.png?image=q_auto,f_webp,w_44&amp;v=1664954331925\" width=\"22\"/></div></div><div class=\"item\"><div class=\"\" style=\"position: relative;\"><img alt=\"징수의 총\" src=\"https://opgg-static.akamaized.net/images/lol/item/6676.png?image=q_auto,f_webp,w_44&amp;v=1664954331925\" width=\"22\"/></div></div><div class=\"item\"><div class=\"\" style=\"position: relative;\"><img alt=\"무한의 대검\" src=\"https://opgg-static.akamaized.net/images/lol/item/3031.png?image=q_auto,f_webp,w_44&amp;v=1664954331925\" width=\"22\"/></div></div><div class=\"item\"><div class=\"\" style=\"position: relative;\"><img alt=\"크라켄 학살자\" src=\"https://opgg-static.akamaized.net/images/lol/item/6672.png?image=q_auto,f_webp,w_44&amp;v=1664954331925\" width=\"22\"/></div></div><div class=\"item\"><div class=\"\" style=\"position: relative;\"><img alt=\"고속 연사포\" src=\"https://opgg-static.akamaized.net/images/lol/item/3094.png?image=q_auto,f_webp,w_44&amp;v=1664954331925\" width=\"22\"/></div></div><div class=\"item\"><div class=\"\" style=\"position: relative;\"><img alt=\"광전사의 군화\" src=\"https://opgg-static.akamaized.net/images/lol/item/3006.png?image=q_auto,f_webp,w_44&amp;v=1664954331925\" width=\"22\"/></div></div><div class=\"item\"><div class=\"\" style=\"position: relative;\"><img alt=\"포로 간식\" src=\"https://opgg-static.akamaized.net/images/lol/item/2052.png?image=q_auto,f_webp,w_44&amp;v=1664954331925\" width=\"22\"/></div></div></td></tr><tr class=\"css-xyqzqz e1j3rwa94\" result=\"WIN\"><td class=\"champion\"><a href=\"/champions/sett\" rel=\"noreferrer\" target=\"_blank\"><div class=\"\" style=\"position: relative;\"><img alt=\"세트\" src=\"https://opgg-static.akamaized.net/images/lol/champion/Sett.png?image=c_crop,h_103,w_103,x_9,y_9/q_auto,f_webp,w_64&amp;v=1664954331925\" width=\"32\"/><div class=\"level\">17</div></div></a></td><td class=\"spells\"><div class=\"\" style=\"position: relative;\"><img alt=\"점멸\" src=\"https://opgg-static.akamaized.net/images/lol/spell/SummonerFlash.png?image=q_auto,f_webp,w_auto&amp;v=1664954331925\"/></div><div class=\"\" style=\"position: relative;\"><img alt=\"표식\" src=\"https://opgg-static.akamaized.net/images/lol/spell/SummonerSnowball.png?image=q_auto,f_webp,w_auto&amp;v=1664954331925\"/></div></td><td class=\"runes\"><div class=\"\" style=\"position: relative;\"><img alt=\"정복자\" src=\"https://opgg-static.akamaized.net/images/lol/perk/8010.png?image=q_auto,f_webp,w_auto&amp;v=1664954331925\"/></div><div class=\"\" style=\"position: relative;\"><img alt=\"결의\" src=\"https://opgg-static.akamaized.net/images/lol/perkStyle/8400.png?image=q_auto,f_webp,w_auto&amp;v=1664954331925\"/></div></td><td class=\"name\"><a href=\"/summoners/kr/%EC%B4%88%EA%B8%89%20%ED%95%98%EB%9E%91%20%EB%B4%87\" rel=\"noreferrer\" target=\"_blank\">초급 하랑 봇</a><div class=\"tier\"><div class=\"\" style=\"position: relative;\">gold 3</div></div></td><td class=\"kda\"><div class=\"k-d-a\">9/9/21 <div class=\"\" style=\"position: relative;\">(65%)</div></div><div class=\"css-ar2iwp e1j3rwa90\">3.33:1</div></td><td class=\"damage\"><div><div class=\"\" style=\"position: relative;\"><div class=\"dealt\">31,516</div><div class=\"progress\"><div class=\"fill\" style=\"width: 74%;\"></div></div></div><div class=\"\" style=\"position: relative;\"><div class=\"taken\">35,256</div><div class=\"progress--taken\"><div class=\"fill\" style=\"width: 91%;\"></div></div></div></div></td><td class=\"ward\"><div class=\"\" style=\"position: relative;\"><div>0</div><div>0 / 0</div></div></td><td class=\"cs\"><div>34</div><div>분당 2</div></td><td class=\"items\"><div class=\"item\"><div class=\"\" style=\"position: relative;\"><img alt=\"선혈포식자\" src=\"https://opgg-static.akamaized.net/images/lol/item/6630.png?image=q_auto,f_webp,w_44&amp;v=1664954331925\" width=\"22\"/></div></div><div class=\"item\"><div class=\"\" style=\"position: relative;\"><img alt=\"판금 장화\" src=\"https://opgg-static.akamaized.net/images/lol/item/3047.png?image=q_auto,f_webp,w_44&amp;v=1664954331925\" width=\"22\"/></div></div><div class=\"item\"><div class=\"\" style=\"position: relative;\"><img alt=\"거대한 히드라\" src=\"https://opgg-static.akamaized.net/images/lol/item/3748.png?image=q_auto,f_webp,w_44&amp;v=1664954331925\" width=\"22\"/></div></div><div class=\"item\"><div class=\"\" style=\"position: relative;\"><img alt=\"탐식의 망치\" src=\"https://opgg-static.akamaized.net/images/lol/item/3044.png?image=q_auto,f_webp,w_44&amp;v=1664954331925\" width=\"22\"/></div></div><div class=\"item\"><div class=\"\" style=\"position: relative;\"><img alt=\"루비 수정\" src=\"https://opgg-static.akamaized.net/images/lol/item/1028.png?image=q_auto,f_webp,w_44&amp;v=1664954331925\" width=\"22\"/></div></div><div class=\"item\"><div class=\"\" style=\"position: relative;\"><img alt=\"곡괭이\" src=\"https://opgg-static.akamaized.net/images/lol/item/1037.png?image=q_auto,f_webp,w_44&amp;v=1664954331925\" width=\"22\"/></div></div><div class=\"item\"><div class=\"no-item\"></div></div></td></tr><tr class=\"css-12kdhht e1j3rwa94\" result=\"WIN\"><td class=\"champion\"><a href=\"/champions/teemo\" rel=\"noreferrer\" target=\"_blank\"><div class=\"\" style=\"position: relative;\"><img alt=\"티모\" src=\"https://opgg-static.akamaized.net/images/lol/champion/Teemo.png?image=c_crop,h_103,w_103,x_9,y_9/q_auto,f_webp,w_64&amp;v=1664954331925\" width=\"32\"/><div class=\"level\">16</div></div></a></td><td class=\"spells\"><div class=\"\" style=\"position: relative;\"><img alt=\"점화\" src=\"https://opgg-static.akamaized.net/images/lol/spell/SummonerDot.png?image=q_auto,f_webp,w_auto&amp;v=1664954331925\"/></div><div class=\"\" style=\"position: relative;\"><img alt=\"점멸\" src=\"https://opgg-static.akamaized.net/images/lol/spell/SummonerFlash.png?image=q_auto,f_webp,w_auto&amp;v=1664954331925\"/></div></td><td class=\"runes\"><div class=\"\" style=\"position: relative;\"><img alt=\"어둠의 수확\" src=\"https://opgg-static.akamaized.net/images/lol/perk/8128.png?image=q_auto,f_webp,w_auto&amp;v=1664954331925\"/></div><div class=\"\" style=\"position: relative;\"><img alt=\"정밀\" src=\"https://opgg-static.akamaized.net/images/lol/perkStyle/8000.png?image=q_auto,f_webp,w_auto&amp;v=1664954331925\"/></div></td><td class=\"name\"><a href=\"/summoners/kr/%EC%B0%BD%EC%9D%98%EC%A0%81%EC%82%AC%EA%B3%A0%ED%9B%88%EB%A0%A8\" rel=\"noreferrer\" target=\"_blank\">창의적사고훈련</a><div class=\"tier\"><div class=\"\" style=\"position: relative;\">bronze 2</div></div></td><td class=\"kda\"><div class=\"k-d-a\">12/10/11 <div class=\"\" style=\"position: relative;\">(50%)</div></div><div class=\"css-x36ffj e1j3rwa90\">2.30:1</div></td><td class=\"damage\"><div><div class=\"\" style=\"position: relative;\"><div class=\"dealt\">23,074</div><div class=\"progress\"><div class=\"fill\" style=\"width: 54%;\"></div></div></div><div class=\"\" style=\"position: relative;\"><div class=\"taken\">19,199</div><div class=\"progress--taken\"><div class=\"fill\" style=\"width: 50%;\"></div></div></div></div></td><td class=\"ward\"><div class=\"\" style=\"position: relative;\"><div>0</div><div>0 / 0</div></div></td><td class=\"cs\"><div>28</div><div>분당 1.6</div></td><td class=\"items\"><div class=\"item\"><div class=\"\" style=\"position: relative;\"><img alt=\"리안드리의 고뇌\" src=\"https://opgg-static.akamaized.net/images/lol/item/6653.png?image=q_auto,f_webp,w_44&amp;v=1664954331925\" width=\"22\"/></div></div><div class=\"item\"><div class=\"\" style=\"position: relative;\"><img alt=\"마법사의 신발\" src=\"https://opgg-static.akamaized.net/images/lol/item/3020.png?image=q_auto,f_webp,w_44&amp;v=1664954331925\" width=\"22\"/></div></div><div class=\"item\"><div class=\"\" style=\"position: relative;\"><img alt=\"악마의 포옹\" src=\"https://opgg-static.akamaized.net/images/lol/item/4637.png?image=q_auto,f_webp,w_44&amp;v=1664954331925\" width=\"22\"/></div></div><div class=\"item\"><div class=\"\" style=\"position: relative;\"><img alt=\"라바돈의 죽음모자\" src=\"https://opgg-static.akamaized.net/images/lol/item/3089.png?image=q_auto,f_webp,w_44&amp;v=1664954331925\" width=\"22\"/></div></div><div class=\"item\"><div class=\"\" style=\"position: relative;\"><img alt=\"에테르 환영\" src=\"https://opgg-static.akamaized.net/images/lol/item/3113.png?image=q_auto,f_webp,w_44&amp;v=1664954331925\" width=\"22\"/></div></div><div class=\"item\"><div class=\"no-item\"></div></div><div class=\"item\"><div class=\"no-item\"></div></div></td></tr></tbody>\n"
     ]
    }
   ],
   "source": [
    "print(gameInfo)"
   ]
  },
  {
   "cell_type": "code",
   "execution_count": 16,
   "id": "c1cd2b7f",
   "metadata": {},
   "outputs": [
    {
     "data": {
      "text/plain": [
       "bs4.element.Tag"
      ]
     },
     "execution_count": 16,
     "metadata": {},
     "output_type": "execute_result"
    }
   ],
   "source": [
    "type(gameInfo)"
   ]
  },
  {
   "cell_type": "code",
   "execution_count": 17,
   "id": "1ad9d437",
   "metadata": {},
   "outputs": [],
   "source": [
    "champInfo = gameInfo.findChildren('tr')"
   ]
  },
  {
   "cell_type": "code",
   "execution_count": 18,
   "id": "9a2166cd",
   "metadata": {},
   "outputs": [
    {
     "data": {
      "text/plain": [
       "bs4.element.ResultSet"
      ]
     },
     "execution_count": 18,
     "metadata": {},
     "output_type": "execute_result"
    }
   ],
   "source": [
    "type(champInfo)"
   ]
  },
  {
   "cell_type": "code",
   "execution_count": 19,
   "id": "8baed0d7",
   "metadata": {},
   "outputs": [
    {
     "data": {
      "text/plain": [
       "[<tr class=\"css-12kdhht e1j3rwa94\" result=\"WIN\"><td class=\"champion\"><a href=\"/champions/soraka\" rel=\"noreferrer\" target=\"_blank\"><div class=\"\" style=\"position: relative;\"><img alt=\"소라카\" src=\"https://opgg-static.akamaized.net/images/lol/champion/Soraka.png?image=c_crop,h_103,w_103,x_9,y_9/q_auto,f_webp,w_64&amp;v=1664954331925\" width=\"32\"/><div class=\"level\">18</div></div></a></td><td class=\"spells\"><div class=\"\" style=\"position: relative;\"><img alt=\"총명\" src=\"https://opgg-static.akamaized.net/images/lol/spell/SummonerMana.png?image=q_auto,f_webp,w_auto&amp;v=1664954331925\"/></div><div class=\"\" style=\"position: relative;\"><img alt=\"점멸\" src=\"https://opgg-static.akamaized.net/images/lol/spell/SummonerFlash.png?image=q_auto,f_webp,w_auto&amp;v=1664954331925\"/></div></td><td class=\"runes\"><div class=\"\" style=\"position: relative;\"><img alt=\"신비로운 유성\" src=\"https://opgg-static.akamaized.net/images/lol/perk/8229.png?image=q_auto,f_webp,w_auto&amp;v=1664954331925\"/></div><div class=\"\" style=\"position: relative;\"><img alt=\"지배\" src=\"https://opgg-static.akamaized.net/images/lol/perkStyle/8100.png?image=q_auto,f_webp,w_auto&amp;v=1664954331925\"/></div></td><td class=\"name\"><a href=\"/summoners/kr/%EC%A1%B4%EC%9E%AC%ED%95%98%EB%8A%94%20%EB%8B%89%EB%84%A4%EC%9E%84\" rel=\"noreferrer\" target=\"_blank\">존재하는 닉네임</a><div class=\"tier\">Level 191</div></td><td class=\"kda\"><div class=\"k-d-a\">3/3/36 <div class=\"\" style=\"position: relative;\">(85%)</div></div><div class=\"css-ufjp55 e1j3rwa90\">13.00:1</div></td><td class=\"damage\"><div><div class=\"\" style=\"position: relative;\"><div class=\"dealt\">15,469</div><div class=\"progress\"><div class=\"fill\" style=\"width: 36%;\"></div></div></div><div class=\"\" style=\"position: relative;\"><div class=\"taken\">12,211</div><div class=\"progress--taken\"><div class=\"fill\" style=\"width: 32%;\"></div></div></div></div></td><td class=\"ward\"><div class=\"\" style=\"position: relative;\"><div>0</div><div>0 / 0</div></div></td><td class=\"cs\"><div>14</div><div>분당 0.8</div></td><td class=\"items\"><div class=\"item\"><div class=\"\" style=\"position: relative;\"><img alt=\"에테르 환영\" src=\"https://opgg-static.akamaized.net/images/lol/item/3113.png?image=q_auto,f_webp,w_44&amp;v=1664954331925\" width=\"22\"/></div></div><div class=\"item\"><div class=\"\" style=\"position: relative;\"><img alt=\"밤의 수확자\" src=\"https://opgg-static.akamaized.net/images/lol/item/4636.png?image=q_auto,f_webp,w_44&amp;v=1664954331925\" width=\"22\"/></div></div><div class=\"item\"><div class=\"\" style=\"position: relative;\"><img alt=\"악마의 마법서\" src=\"https://opgg-static.akamaized.net/images/lol/item/3108.png?image=q_auto,f_webp,w_44&amp;v=1664954331925\" width=\"22\"/></div></div><div class=\"item\"><div class=\"\" style=\"position: relative;\"><img alt=\"명석함의 아이오니아 장화\" src=\"https://opgg-static.akamaized.net/images/lol/item/3158.png?image=q_auto,f_webp,w_44&amp;v=1664954331925\" width=\"22\"/></div></div><div class=\"item\"><div class=\"\" style=\"position: relative;\"><img alt=\"루비 수정\" src=\"https://opgg-static.akamaized.net/images/lol/item/1028.png?image=q_auto,f_webp,w_44&amp;v=1664954331925\" width=\"22\"/></div></div><div class=\"item\"><div class=\"no-item\"></div></div><div class=\"item\"><div class=\"\" style=\"position: relative;\"><img alt=\"포로 간식\" src=\"https://opgg-static.akamaized.net/images/lol/item/2052.png?image=q_auto,f_webp,w_44&amp;v=1664954331925\" width=\"22\"/></div></div></td></tr>,\n",
       " <tr class=\"css-12kdhht e1j3rwa94\" result=\"WIN\"><td class=\"champion\"><a href=\"/champions/janna\" rel=\"noreferrer\" target=\"_blank\"><div class=\"\" style=\"position: relative;\"><img alt=\"잔나\" src=\"https://opgg-static.akamaized.net/images/lol/champion/Janna.png?image=c_crop,h_103,w_103,x_9,y_9/q_auto,f_webp,w_64&amp;v=1664954331925\" width=\"32\"/><div class=\"level\">15</div></div></a></td><td class=\"spells\"><div class=\"\" style=\"position: relative;\"><img alt=\"점멸\" src=\"https://opgg-static.akamaized.net/images/lol/spell/SummonerFlash.png?image=q_auto,f_webp,w_auto&amp;v=1664954331925\"/></div><div class=\"\" style=\"position: relative;\"><img alt=\"탈진\" src=\"https://opgg-static.akamaized.net/images/lol/spell/SummonerExhaust.png?image=q_auto,f_webp,w_auto&amp;v=1664954331925\"/></div></td><td class=\"runes\"><div class=\"\" style=\"position: relative;\"><img alt=\"빙결 강화\" src=\"https://opgg-static.akamaized.net/images/lol/perk/8351.png?image=q_auto,f_webp,w_auto&amp;v=1664954331925\"/></div><div class=\"\" style=\"position: relative;\"><img alt=\"정밀\" src=\"https://opgg-static.akamaized.net/images/lol/perkStyle/8000.png?image=q_auto,f_webp,w_auto&amp;v=1664954331925\"/></div></td><td class=\"name\"><a href=\"/summoners/kr/GAVISCON31\" rel=\"noreferrer\" target=\"_blank\">GAVISCON31</a><div class=\"tier\">Level 124</div></td><td class=\"kda\"><div class=\"k-d-a\">0/11/22 <div class=\"\" style=\"position: relative;\">(48%)</div></div><div class=\"css-x36ffj e1j3rwa90\">2.00:1</div></td><td class=\"damage\"><div><div class=\"\" style=\"position: relative;\"><div class=\"dealt\">5,425</div><div class=\"progress\"><div class=\"fill\" style=\"width: 13%;\"></div></div></div><div class=\"\" style=\"position: relative;\"><div class=\"taken\">20,412</div><div class=\"progress--taken\"><div class=\"fill\" style=\"width: 53%;\"></div></div></div></div></td><td class=\"ward\"><div class=\"\" style=\"position: relative;\"><div>0</div><div>0 / 0</div></div></td><td class=\"cs\"><div>13</div><div>분당 0.8</div></td><td class=\"items\"><div class=\"item\"><div class=\"\" style=\"position: relative;\"><img alt=\"월석 재생기\" src=\"https://opgg-static.akamaized.net/images/lol/item/6617.png?image=q_auto,f_webp,w_44&amp;v=1664954331925\" width=\"22\"/></div></div><div class=\"item\"><div class=\"\" style=\"position: relative;\"><img alt=\"대천사의 포옹\" src=\"https://opgg-static.akamaized.net/images/lol/item/3040.png?image=q_auto,f_webp,w_44&amp;v=1664954331925\" width=\"22\"/></div></div><div class=\"item\"><div class=\"\" style=\"position: relative;\"><img alt=\"명석함의 아이오니아 장화\" src=\"https://opgg-static.akamaized.net/images/lol/item/3158.png?image=q_auto,f_webp,w_44&amp;v=1664954331925\" width=\"22\"/></div></div><div class=\"item\"><div class=\"\" style=\"position: relative;\"><img alt=\"화학공학 부패기\" src=\"https://opgg-static.akamaized.net/images/lol/item/3011.png?image=q_auto,f_webp,w_44&amp;v=1664954331925\" width=\"22\"/></div></div><div class=\"item\"><div class=\"\" style=\"position: relative;\"><img alt=\"점화석\" src=\"https://opgg-static.akamaized.net/images/lol/item/3067.png?image=q_auto,f_webp,w_44&amp;v=1664954331925\" width=\"22\"/></div></div><div class=\"item\"><div class=\"no-item\"></div></div><div class=\"item\"><div class=\"\" style=\"position: relative;\"><img alt=\"포로 간식\" src=\"https://opgg-static.akamaized.net/images/lol/item/2052.png?image=q_auto,f_webp,w_44&amp;v=1664954331925\" width=\"22\"/></div></div></td></tr>,\n",
       " <tr class=\"css-12kdhht e1j3rwa94\" result=\"WIN\"><td class=\"champion\"><a href=\"/champions/missfortune\" rel=\"noreferrer\" target=\"_blank\"><div class=\"\" style=\"position: relative;\"><img alt=\"미스 포츈\" src=\"https://opgg-static.akamaized.net/images/lol/champion/MissFortune.png?image=c_crop,h_103,w_103,x_9,y_9/q_auto,f_webp,w_64&amp;v=1664954331925\" width=\"32\"/><div class=\"level\">16</div></div></a></td><td class=\"spells\"><div class=\"\" style=\"position: relative;\"><img alt=\"정화\" src=\"https://opgg-static.akamaized.net/images/lol/spell/SummonerBoost.png?image=q_auto,f_webp,w_auto&amp;v=1664954331925\"/></div><div class=\"\" style=\"position: relative;\"><img alt=\"점멸\" src=\"https://opgg-static.akamaized.net/images/lol/spell/SummonerFlash.png?image=q_auto,f_webp,w_auto&amp;v=1664954331925\"/></div></td><td class=\"runes\"><div class=\"\" style=\"position: relative;\"><img alt=\"집중 공격\" src=\"https://opgg-static.akamaized.net/images/lol/perk/8005.png?image=q_auto,f_webp,w_auto&amp;v=1664954331925\"/></div><div class=\"\" style=\"position: relative;\"><img alt=\"지배\" src=\"https://opgg-static.akamaized.net/images/lol/perkStyle/8100.png?image=q_auto,f_webp,w_auto&amp;v=1664954331925\"/></div></td><td class=\"name\"><a href=\"/summoners/kr/%ED%95%98%EB%A7%88%EB%B2%A0\" rel=\"noreferrer\" target=\"_blank\">하마베</a><div class=\"tier\">Level 210</div></td><td class=\"kda\"><div class=\"k-d-a\">22/11/16 <div class=\"\" style=\"position: relative;\">(83%)</div></div><div class=\"css-ar2iwp e1j3rwa90\">3.45:1</div></td><td class=\"damage\"><div><div class=\"\" style=\"position: relative;\"><div class=\"dealt\">42,620</div><div class=\"progress\"><div class=\"fill\" style=\"width: 100%;\"></div></div></div><div class=\"\" style=\"position: relative;\"><div class=\"taken\">25,917</div><div class=\"progress--taken\"><div class=\"fill\" style=\"width: 67%;\"></div></div></div></div></td><td class=\"ward\"><div class=\"\" style=\"position: relative;\"><div>0</div><div>0 / 0</div></div></td><td class=\"cs\"><div>86</div><div>분당 5</div></td><td class=\"items\"><div class=\"item\"><div class=\"\" style=\"position: relative;\"><img alt=\"피바라기\" src=\"https://opgg-static.akamaized.net/images/lol/item/3072.png?image=q_auto,f_webp,w_44&amp;v=1664954331925\" width=\"22\"/></div></div><div class=\"item\"><div class=\"\" style=\"position: relative;\"><img alt=\"징수의 총\" src=\"https://opgg-static.akamaized.net/images/lol/item/6676.png?image=q_auto,f_webp,w_44&amp;v=1664954331925\" width=\"22\"/></div></div><div class=\"item\"><div class=\"\" style=\"position: relative;\"><img alt=\"무한의 대검\" src=\"https://opgg-static.akamaized.net/images/lol/item/3031.png?image=q_auto,f_webp,w_44&amp;v=1664954331925\" width=\"22\"/></div></div><div class=\"item\"><div class=\"\" style=\"position: relative;\"><img alt=\"크라켄 학살자\" src=\"https://opgg-static.akamaized.net/images/lol/item/6672.png?image=q_auto,f_webp,w_44&amp;v=1664954331925\" width=\"22\"/></div></div><div class=\"item\"><div class=\"\" style=\"position: relative;\"><img alt=\"고속 연사포\" src=\"https://opgg-static.akamaized.net/images/lol/item/3094.png?image=q_auto,f_webp,w_44&amp;v=1664954331925\" width=\"22\"/></div></div><div class=\"item\"><div class=\"\" style=\"position: relative;\"><img alt=\"광전사의 군화\" src=\"https://opgg-static.akamaized.net/images/lol/item/3006.png?image=q_auto,f_webp,w_44&amp;v=1664954331925\" width=\"22\"/></div></div><div class=\"item\"><div class=\"\" style=\"position: relative;\"><img alt=\"포로 간식\" src=\"https://opgg-static.akamaized.net/images/lol/item/2052.png?image=q_auto,f_webp,w_44&amp;v=1664954331925\" width=\"22\"/></div></div></td></tr>,\n",
       " <tr class=\"css-xyqzqz e1j3rwa94\" result=\"WIN\"><td class=\"champion\"><a href=\"/champions/sett\" rel=\"noreferrer\" target=\"_blank\"><div class=\"\" style=\"position: relative;\"><img alt=\"세트\" src=\"https://opgg-static.akamaized.net/images/lol/champion/Sett.png?image=c_crop,h_103,w_103,x_9,y_9/q_auto,f_webp,w_64&amp;v=1664954331925\" width=\"32\"/><div class=\"level\">17</div></div></a></td><td class=\"spells\"><div class=\"\" style=\"position: relative;\"><img alt=\"점멸\" src=\"https://opgg-static.akamaized.net/images/lol/spell/SummonerFlash.png?image=q_auto,f_webp,w_auto&amp;v=1664954331925\"/></div><div class=\"\" style=\"position: relative;\"><img alt=\"표식\" src=\"https://opgg-static.akamaized.net/images/lol/spell/SummonerSnowball.png?image=q_auto,f_webp,w_auto&amp;v=1664954331925\"/></div></td><td class=\"runes\"><div class=\"\" style=\"position: relative;\"><img alt=\"정복자\" src=\"https://opgg-static.akamaized.net/images/lol/perk/8010.png?image=q_auto,f_webp,w_auto&amp;v=1664954331925\"/></div><div class=\"\" style=\"position: relative;\"><img alt=\"결의\" src=\"https://opgg-static.akamaized.net/images/lol/perkStyle/8400.png?image=q_auto,f_webp,w_auto&amp;v=1664954331925\"/></div></td><td class=\"name\"><a href=\"/summoners/kr/%EC%B4%88%EA%B8%89%20%ED%95%98%EB%9E%91%20%EB%B4%87\" rel=\"noreferrer\" target=\"_blank\">초급 하랑 봇</a><div class=\"tier\"><div class=\"\" style=\"position: relative;\">gold 3</div></div></td><td class=\"kda\"><div class=\"k-d-a\">9/9/21 <div class=\"\" style=\"position: relative;\">(65%)</div></div><div class=\"css-ar2iwp e1j3rwa90\">3.33:1</div></td><td class=\"damage\"><div><div class=\"\" style=\"position: relative;\"><div class=\"dealt\">31,516</div><div class=\"progress\"><div class=\"fill\" style=\"width: 74%;\"></div></div></div><div class=\"\" style=\"position: relative;\"><div class=\"taken\">35,256</div><div class=\"progress--taken\"><div class=\"fill\" style=\"width: 91%;\"></div></div></div></div></td><td class=\"ward\"><div class=\"\" style=\"position: relative;\"><div>0</div><div>0 / 0</div></div></td><td class=\"cs\"><div>34</div><div>분당 2</div></td><td class=\"items\"><div class=\"item\"><div class=\"\" style=\"position: relative;\"><img alt=\"선혈포식자\" src=\"https://opgg-static.akamaized.net/images/lol/item/6630.png?image=q_auto,f_webp,w_44&amp;v=1664954331925\" width=\"22\"/></div></div><div class=\"item\"><div class=\"\" style=\"position: relative;\"><img alt=\"판금 장화\" src=\"https://opgg-static.akamaized.net/images/lol/item/3047.png?image=q_auto,f_webp,w_44&amp;v=1664954331925\" width=\"22\"/></div></div><div class=\"item\"><div class=\"\" style=\"position: relative;\"><img alt=\"거대한 히드라\" src=\"https://opgg-static.akamaized.net/images/lol/item/3748.png?image=q_auto,f_webp,w_44&amp;v=1664954331925\" width=\"22\"/></div></div><div class=\"item\"><div class=\"\" style=\"position: relative;\"><img alt=\"탐식의 망치\" src=\"https://opgg-static.akamaized.net/images/lol/item/3044.png?image=q_auto,f_webp,w_44&amp;v=1664954331925\" width=\"22\"/></div></div><div class=\"item\"><div class=\"\" style=\"position: relative;\"><img alt=\"루비 수정\" src=\"https://opgg-static.akamaized.net/images/lol/item/1028.png?image=q_auto,f_webp,w_44&amp;v=1664954331925\" width=\"22\"/></div></div><div class=\"item\"><div class=\"\" style=\"position: relative;\"><img alt=\"곡괭이\" src=\"https://opgg-static.akamaized.net/images/lol/item/1037.png?image=q_auto,f_webp,w_44&amp;v=1664954331925\" width=\"22\"/></div></div><div class=\"item\"><div class=\"no-item\"></div></div></td></tr>,\n",
       " <tr class=\"css-12kdhht e1j3rwa94\" result=\"WIN\"><td class=\"champion\"><a href=\"/champions/teemo\" rel=\"noreferrer\" target=\"_blank\"><div class=\"\" style=\"position: relative;\"><img alt=\"티모\" src=\"https://opgg-static.akamaized.net/images/lol/champion/Teemo.png?image=c_crop,h_103,w_103,x_9,y_9/q_auto,f_webp,w_64&amp;v=1664954331925\" width=\"32\"/><div class=\"level\">16</div></div></a></td><td class=\"spells\"><div class=\"\" style=\"position: relative;\"><img alt=\"점화\" src=\"https://opgg-static.akamaized.net/images/lol/spell/SummonerDot.png?image=q_auto,f_webp,w_auto&amp;v=1664954331925\"/></div><div class=\"\" style=\"position: relative;\"><img alt=\"점멸\" src=\"https://opgg-static.akamaized.net/images/lol/spell/SummonerFlash.png?image=q_auto,f_webp,w_auto&amp;v=1664954331925\"/></div></td><td class=\"runes\"><div class=\"\" style=\"position: relative;\"><img alt=\"어둠의 수확\" src=\"https://opgg-static.akamaized.net/images/lol/perk/8128.png?image=q_auto,f_webp,w_auto&amp;v=1664954331925\"/></div><div class=\"\" style=\"position: relative;\"><img alt=\"정밀\" src=\"https://opgg-static.akamaized.net/images/lol/perkStyle/8000.png?image=q_auto,f_webp,w_auto&amp;v=1664954331925\"/></div></td><td class=\"name\"><a href=\"/summoners/kr/%EC%B0%BD%EC%9D%98%EC%A0%81%EC%82%AC%EA%B3%A0%ED%9B%88%EB%A0%A8\" rel=\"noreferrer\" target=\"_blank\">창의적사고훈련</a><div class=\"tier\"><div class=\"\" style=\"position: relative;\">bronze 2</div></div></td><td class=\"kda\"><div class=\"k-d-a\">12/10/11 <div class=\"\" style=\"position: relative;\">(50%)</div></div><div class=\"css-x36ffj e1j3rwa90\">2.30:1</div></td><td class=\"damage\"><div><div class=\"\" style=\"position: relative;\"><div class=\"dealt\">23,074</div><div class=\"progress\"><div class=\"fill\" style=\"width: 54%;\"></div></div></div><div class=\"\" style=\"position: relative;\"><div class=\"taken\">19,199</div><div class=\"progress--taken\"><div class=\"fill\" style=\"width: 50%;\"></div></div></div></div></td><td class=\"ward\"><div class=\"\" style=\"position: relative;\"><div>0</div><div>0 / 0</div></div></td><td class=\"cs\"><div>28</div><div>분당 1.6</div></td><td class=\"items\"><div class=\"item\"><div class=\"\" style=\"position: relative;\"><img alt=\"리안드리의 고뇌\" src=\"https://opgg-static.akamaized.net/images/lol/item/6653.png?image=q_auto,f_webp,w_44&amp;v=1664954331925\" width=\"22\"/></div></div><div class=\"item\"><div class=\"\" style=\"position: relative;\"><img alt=\"마법사의 신발\" src=\"https://opgg-static.akamaized.net/images/lol/item/3020.png?image=q_auto,f_webp,w_44&amp;v=1664954331925\" width=\"22\"/></div></div><div class=\"item\"><div class=\"\" style=\"position: relative;\"><img alt=\"악마의 포옹\" src=\"https://opgg-static.akamaized.net/images/lol/item/4637.png?image=q_auto,f_webp,w_44&amp;v=1664954331925\" width=\"22\"/></div></div><div class=\"item\"><div class=\"\" style=\"position: relative;\"><img alt=\"라바돈의 죽음모자\" src=\"https://opgg-static.akamaized.net/images/lol/item/3089.png?image=q_auto,f_webp,w_44&amp;v=1664954331925\" width=\"22\"/></div></div><div class=\"item\"><div class=\"\" style=\"position: relative;\"><img alt=\"에테르 환영\" src=\"https://opgg-static.akamaized.net/images/lol/item/3113.png?image=q_auto,f_webp,w_44&amp;v=1664954331925\" width=\"22\"/></div></div><div class=\"item\"><div class=\"no-item\"></div></div><div class=\"item\"><div class=\"no-item\"></div></div></td></tr>]"
      ]
     },
     "execution_count": 19,
     "metadata": {},
     "output_type": "execute_result"
    }
   ],
   "source": [
    "champInfo"
   ]
  },
  {
   "cell_type": "code",
   "execution_count": 141,
   "id": "a044d125",
   "metadata": {},
   "outputs": [
    {
     "data": {
      "text/plain": [
       "bs4.element.Tag"
      ]
     },
     "execution_count": 141,
     "metadata": {},
     "output_type": "execute_result"
    }
   ],
   "source": [
    "type(champInfo[0])"
   ]
  },
  {
   "cell_type": "code",
   "execution_count": 159,
   "id": "b8ac2df2",
   "metadata": {},
   "outputs": [],
   "source": [
    "infoList = champInfo[0].findChildren('td')"
   ]
  },
  {
   "cell_type": "code",
   "execution_count": 160,
   "id": "e453399a",
   "metadata": {},
   "outputs": [
    {
     "data": {
      "text/plain": [
       "bs4.element.ResultSet"
      ]
     },
     "execution_count": 160,
     "metadata": {},
     "output_type": "execute_result"
    }
   ],
   "source": [
    "type(infoList)"
   ]
  },
  {
   "cell_type": "code",
   "execution_count": 8,
   "id": "bd67e027",
   "metadata": {},
   "outputs": [],
   "source": [
    "# 각각의 게임 정보 parsing\n",
    "def getLineInfo(infoList):\n",
    "    infoDict = {}\n",
    "\n",
    "    for info in infoList:\n",
    "        #print(info)\n",
    "        if info['class'][0] == 'champion':\n",
    "            champion = info.findChild('a', href=True)['href'].split('/')[::-1][0]\n",
    "            #print(champion)\n",
    "            infoDict['champion'] = champion\n",
    "        elif info['class'][0] == 'spells':\n",
    "            infoDict['spell1'] = info.findChildren('img')[0]['alt']\n",
    "            infoDict['spell2'] = info.findChildren('img')[1]['alt']\n",
    "        elif info['class'][0] == 'runes':\n",
    "            infoDict['rune1'] = info.findChildren('img')[0]['alt']\n",
    "            infoDict['rune2'] = info.findChildren('img')[1]['alt']\n",
    "        elif info['class'][0] == 'name':\n",
    "            infoDict['user name'] = info.findChild('a', href=True).get_text()\n",
    "        elif info['class'][0] == 'kda':\n",
    "            infoDict['kill'] = info.findChildren('div')[0].get_text().split('/')[0]\n",
    "            infoDict['death'] = info.findChildren('div')[0].get_text().split('/')[1]\n",
    "            infoDict['assist'] = info.findChildren('div')[0].get_text().split('/')[2].split(' ')[0]\n",
    "            infoDict['kill participation'] = info.findChildren('div')[1].get_text().replace('(', '').replace(')', '')\n",
    "            if float(infoDict['death']) != 0:\n",
    "                infoDict['kda'] = round((float(infoDict['kill']) + float(infoDict['assist'])) / float(infoDict['death']), 2)\n",
    "            else :\n",
    "                infoDict['kda'] = 'Perfect'\n",
    "        elif info['class'][0] == 'damage':\n",
    "            damage = []\n",
    "            for div in info.findChildren('div'):\n",
    "                try:\n",
    "                    if div['class'][0] == 'dealt' or div['class'][0] == 'taken':\n",
    "                        damage.append(div.get_text())\n",
    "                except:\n",
    "                    pass\n",
    "            infoDict['damage dealt'] = damage[0]\n",
    "            infoDict['damage taken'] = damage[1]\n",
    "        elif info['class'][0] == 'ward':\n",
    "            infoDict['control ward'] = info.findChildren('div')[1].get_text()\n",
    "            infoDict['warding'] = info.findChildren('div')[2].get_text().split('/')[0]\n",
    "            infoDict['ward removed'] = info.findChildren('div')[2].get_text().split('/')[1]\n",
    "        elif info['class'][0] == 'cs':\n",
    "            infoDict['total cs'] = info.findChildren('div')[0].get_text()\n",
    "            infoDict['cs per minute'] = info.findChildren('div')[1].get_text().split('분당 ')[1]\n",
    "        elif info['class'][0] == 'items':\n",
    "            if len(info.findChildren('img')) > 0:\n",
    "                for i in range(len(info.findChildren('img')) - 1):\n",
    "                    infoDict['item' + str(i + 1)] = info.findChildren('img')[i]['alt']\n",
    "                infoDict['item' + str(len(info.findChildren('img')))] = info.findChildren('img')[len(info.findChildren('img')) - 1]['alt']\n",
    "        else:\n",
    "            pass\n",
    "\n",
    "    return infoDict"
   ]
  },
  {
   "cell_type": "code",
   "execution_count": 114,
   "id": "07ff44b9",
   "metadata": {},
   "outputs": [
    {
     "data": {
      "text/plain": [
       "{'champion': 'missfortune',\n",
       " 'spell1': '정화',\n",
       " 'spell2': '점멸',\n",
       " 'rune1': '집중 공격',\n",
       " 'rune2': '지배',\n",
       " 'user name': '하마베',\n",
       " 'kill': '22',\n",
       " 'death': '11',\n",
       " 'assist': '16',\n",
       " 'kill participation': '83%',\n",
       " 'kda': 3.45,\n",
       " 'damage dealt': '42,620',\n",
       " 'damage taken': '25,917',\n",
       " 'control ward': '0',\n",
       " 'warding': '0 ',\n",
       " 'ward removed': ' 0',\n",
       " 'total cs': '86',\n",
       " 'cs per minute': '5',\n",
       " 'item1': '피바라기',\n",
       " 'item2': '징수의 총',\n",
       " 'item3': '무한의 대검',\n",
       " 'item4': '크라켄 학살자',\n",
       " 'item5': '고속 연사포',\n",
       " 'item6': '광전사의 군화',\n",
       " 'item7': '포로 간식'}"
      ]
     },
     "execution_count": 114,
     "metadata": {},
     "output_type": "execute_result"
    }
   ],
   "source": [
    "getLineInfo(champInfo[2].findChildren('td'))"
   ]
  },
  {
   "cell_type": "code",
   "execution_count": 9,
   "id": "8e53dd29",
   "metadata": {},
   "outputs": [],
   "source": [
    "# 게임 정보의 각 줄을 받아온다\n",
    "def gameInfo(rawInfo, gameType):\n",
    "    gameInfo = rawInfo.findChildren('tbody')\n",
    "    winChampInfo = gameInfo[0].findChildren('tr')\n",
    "    loseChampInfo = gameInfo[1].findChildren('tr')\n",
    "    gameInfoDict = {}\n",
    "    gameInfoDict['gameType'] = gameType\n",
    "    for i in range(5):\n",
    "        gameInfoDict['win player' + str(i + 1)] = getLineInfo(winChampInfo[i].findChildren('td'))\n",
    "    for i in range(5):\n",
    "        gameInfoDict['lose player' + str(i + 1)] = getLineInfo(loseChampInfo[i].findChildren('td'))\n",
    "    return gameInfoDict"
   ]
  },
  {
   "cell_type": "code",
   "execution_count": 118,
   "id": "ea63516c",
   "metadata": {},
   "outputs": [
    {
     "data": {
      "text/plain": [
       "{'win player1': {'champion': 'shaco',\n",
       "  'spell1': '표식',\n",
       "  'spell2': '점멸',\n",
       "  'rune1': '어둠의 수확',\n",
       "  'rune2': '정밀',\n",
       "  'user name': '존재하는 닉네임',\n",
       "  'kill': '7',\n",
       "  'death': '2',\n",
       "  'assist': '21',\n",
       "  'kill participation': '70%',\n",
       "  'kda': 14.0,\n",
       "  'damage dealt': '14,264',\n",
       "  'damage taken': '6,272',\n",
       "  'control ward': '0',\n",
       "  'warding': '0 ',\n",
       "  'ward removed': ' 0',\n",
       "  'total cs': '15',\n",
       "  'cs per minute': '1.3',\n",
       "  'item1': '체력 물약',\n",
       "  'item2': '리안드리의 고뇌',\n",
       "  'item3': '악마의 포옹',\n",
       "  'item4': '장화',\n",
       "  'item5': '포로 간식'},\n",
       " 'win player2': {'champion': 'janna',\n",
       "  'spell1': '점멸',\n",
       "  'spell2': '탈진',\n",
       "  'rune1': '빙결 강화',\n",
       "  'rune2': '정밀',\n",
       "  'user name': 'GAVISCON31',\n",
       "  'kill': '3',\n",
       "  'death': '2',\n",
       "  'assist': '36',\n",
       "  'kill participation': '98%',\n",
       "  'kda': 19.5,\n",
       "  'damage dealt': '8,689',\n",
       "  'damage taken': '8,507',\n",
       "  'control ward': '0',\n",
       "  'warding': '0 ',\n",
       "  'ward removed': ' 0',\n",
       "  'total cs': '20',\n",
       "  'cs per minute': '1.7',\n",
       "  'item1': '월석 재생기',\n",
       "  'item2': '대천사의 포옹',\n",
       "  'item3': '명석함의 아이오니아 장화',\n",
       "  'item4': '포로 간식'},\n",
       " 'win player3': {'champion': 'pyke',\n",
       "  'spell1': '표식',\n",
       "  'spell2': '점멸',\n",
       "  'rune1': '어둠의 수확',\n",
       "  'rune2': '정밀',\n",
       "  'user name': '하마베',\n",
       "  'kill': '16',\n",
       "  'death': '4',\n",
       "  'assist': '16',\n",
       "  'kill participation': '80%',\n",
       "  'kda': 8.0,\n",
       "  'damage dealt': '15,150',\n",
       "  'damage taken': '12,085',\n",
       "  'control ward': '0',\n",
       "  'warding': '0 ',\n",
       "  'ward removed': ' 0',\n",
       "  'total cs': '18',\n",
       "  'cs per minute': '1.5',\n",
       "  'item1': '롱소드',\n",
       "  'item2': '드락사르의 황혼검',\n",
       "  'item3': '원칙의 원형낫',\n",
       "  'item4': '명석함의 아이오니아 장화',\n",
       "  'item5': '포로 간식'},\n",
       " 'win player4': {'champion': 'masteryi',\n",
       "  'spell1': '점멸',\n",
       "  'spell2': '표식',\n",
       "  'rune1': '치명적 속도',\n",
       "  'rune2': '지배',\n",
       "  'user name': '초급 하랑 봇',\n",
       "  'kill': '9',\n",
       "  'death': '6',\n",
       "  'assist': '24',\n",
       "  'kill participation': '83%',\n",
       "  'kda': 5.5,\n",
       "  'damage dealt': '16,713',\n",
       "  'damage taken': '14,422',\n",
       "  'control ward': '0',\n",
       "  'warding': '0 ',\n",
       "  'ward removed': ' 0',\n",
       "  'total cs': '40',\n",
       "  'cs per minute': '3.4',\n",
       "  'item1': '마법무효화의 망토',\n",
       "  'item2': '헤르메스의 발걸음',\n",
       "  'item3': '온기가 필요한 자의 도끼',\n",
       "  'item4': '몰락한 왕의 검',\n",
       "  'item5': '곡괭이',\n",
       "  'item6': '태양불꽃 방패',\n",
       "  'item7': '포로 간식'},\n",
       " 'win player5': {'champion': 'aatrox',\n",
       "  'spell1': '표식',\n",
       "  'spell2': '점멸',\n",
       "  'rune1': '정복자',\n",
       "  'rune2': '지배',\n",
       "  'user name': '창의적사고훈련',\n",
       "  'kill': '5',\n",
       "  'death': '6',\n",
       "  'assist': '19',\n",
       "  'kill participation': '60%',\n",
       "  'kda': 4.0,\n",
       "  'damage dealt': '12,493',\n",
       "  'damage taken': '15,941',\n",
       "  'control ward': '0',\n",
       "  'warding': '0 ',\n",
       "  'ward removed': ' 0',\n",
       "  'total cs': '19',\n",
       "  'cs per minute': '1.6',\n",
       "  'item1': '월식',\n",
       "  'item2': '헤르메스의 발걸음',\n",
       "  'item3': '죽음의 무도',\n",
       "  'item4': '망령의 두건'},\n",
       " 'lose player1': {'champion': 'kayle',\n",
       "  'spell1': '탈진',\n",
       "  'spell2': '점멸',\n",
       "  'rune1': '치명적 속도',\n",
       "  'rune2': '지배',\n",
       "  'user name': 'DDoongCan',\n",
       "  'kill': '1',\n",
       "  'death': '7',\n",
       "  'assist': '13',\n",
       "  'kill participation': '70%',\n",
       "  'kda': 2.0,\n",
       "  'damage dealt': '6,478',\n",
       "  'damage taken': '12,492',\n",
       "  'control ward': '0',\n",
       "  'warding': '0 ',\n",
       "  'ward removed': ' 0',\n",
       "  'total cs': '25',\n",
       "  'cs per minute': '2.2',\n",
       "  'item1': '수호자의 망치',\n",
       "  'item2': '마법사의 최후',\n",
       "  'item3': '광전사의 군화',\n",
       "  'item4': '흡수의 시선',\n",
       "  'item5': '방출의 마법봉',\n",
       "  'item6': '포로 간식'},\n",
       " 'lose player2': {'champion': 'karthus',\n",
       "  'spell1': '점멸',\n",
       "  'spell2': '표식',\n",
       "  'rune1': '어둠의 수확',\n",
       "  'rune2': '정밀',\n",
       "  'user name': '다음 정지 14일',\n",
       "  'kill': '7',\n",
       "  'death': '8',\n",
       "  'assist': '11',\n",
       "  'kill participation': '90%',\n",
       "  'kda': 2.25,\n",
       "  'damage dealt': '15,784',\n",
       "  'damage taken': '12,843',\n",
       "  'control ward': '0',\n",
       "  'warding': '0 ',\n",
       "  'ward removed': ' 0',\n",
       "  'total cs': '56',\n",
       "  'cs per minute': '4.8',\n",
       "  'item1': '루덴의 폭풍',\n",
       "  'item2': '마법사의 신발',\n",
       "  'item3': '존야의 모래시계',\n",
       "  'item4': '여신의 눈물',\n",
       "  'item5': '루비 수정',\n",
       "  'item6': '방출의 마법봉',\n",
       "  'item7': '포로 간식'},\n",
       " 'lose player3': {'champion': 'rumble',\n",
       "  'spell1': '표식',\n",
       "  'spell2': '점멸',\n",
       "  'rune1': '어둠의 수확',\n",
       "  'rune2': '마법',\n",
       "  'user name': '제투머',\n",
       "  'kill': '4',\n",
       "  'death': '10',\n",
       "  'assist': '9',\n",
       "  'kill participation': '65%',\n",
       "  'kda': 1.3,\n",
       "  'damage dealt': '9,067',\n",
       "  'damage taken': '14,044',\n",
       "  'control ward': '0',\n",
       "  'warding': '0 ',\n",
       "  'ward removed': ' 0',\n",
       "  'total cs': '18',\n",
       "  'cs per minute': '1.5',\n",
       "  'item1': '리안드리의 고뇌',\n",
       "  'item2': '초시계',\n",
       "  'item3': '마법사의 신발',\n",
       "  'item4': '추적자의 팔목 보호대',\n",
       "  'item5': '악마의 마법서',\n",
       "  'item6': '포로 간식'},\n",
       " 'lose player4': {'champion': 'camille',\n",
       "  'spell1': '점멸',\n",
       "  'spell2': '표식',\n",
       "  'rune1': '정복자',\n",
       "  'rune2': '결의',\n",
       "  'user name': 'Eshop',\n",
       "  'kill': '7',\n",
       "  'death': '8',\n",
       "  'assist': '5',\n",
       "  'kill participation': '60%',\n",
       "  'kda': 1.5,\n",
       "  'damage dealt': '9,369',\n",
       "  'damage taken': '15,317',\n",
       "  'control ward': '0',\n",
       "  'warding': '0 ',\n",
       "  'ward removed': ' 0',\n",
       "  'total cs': '9',\n",
       "  'cs per minute': '0.8',\n",
       "  'item1': '신성한 파괴자',\n",
       "  'item2': '판금 장화',\n",
       "  'item3': '처형인의 대검',\n",
       "  'item4': '죽음의 무도',\n",
       "  'item5': '포로 간식'},\n",
       " 'lose player5': {'champion': 'gnar',\n",
       "  'spell1': '유체화',\n",
       "  'spell2': '점멸',\n",
       "  'rune1': '정복자',\n",
       "  'rune2': '지배',\n",
       "  'user name': '응애나애기조주',\n",
       "  'kill': '1',\n",
       "  'death': '7',\n",
       "  'assist': '10',\n",
       "  'kill participation': '55%',\n",
       "  'kda': 1.57,\n",
       "  'damage dealt': '6,482',\n",
       "  'damage taken': '13,872',\n",
       "  'control ward': '0',\n",
       "  'warding': '0 ',\n",
       "  'ward removed': ' 0',\n",
       "  'total cs': '12',\n",
       "  'cs per minute': '1',\n",
       "  'item1': '신성한 파괴자',\n",
       "  'item2': '충전형 물약',\n",
       "  'item3': '수호자의 뿔피리',\n",
       "  'item4': '롱소드',\n",
       "  'item5': '판금 장화',\n",
       "  'item6': '포로 간식'}}"
      ]
     },
     "execution_count": 118,
     "metadata": {},
     "output_type": "execute_result"
    }
   ],
   "source": [
    "gameInfo(gameLists[3])"
   ]
  },
  {
   "cell_type": "code",
   "execution_count": 143,
   "id": "dfa1d047",
   "metadata": {},
   "outputs": [],
   "source": [
    "gameInfoList = []\n",
    "for i in range(1, 200, 2):\n",
    "    gameInfoList.append(gameInfo(gameLists[i]))"
   ]
  },
  {
   "cell_type": "code",
   "execution_count": null,
   "id": "5b6a00a7",
   "metadata": {},
   "outputs": [],
   "source": [
    "driver.get(\"https://op.gg/summoners/kr/\" + '초급 하랑 봇')"
   ]
  },
  {
   "cell_type": "code",
   "execution_count": 144,
   "id": "bb288c67",
   "metadata": {},
   "outputs": [],
   "source": [
    "with open('test.json', 'a', encoding='utf-8') as json_file:\n",
    "    json.dump(gameInfoList, json_file, indent='\\t', ensure_ascii=False)"
   ]
  },
  {
   "cell_type": "code",
   "execution_count": 10,
   "id": "dc420e4c",
   "metadata": {},
   "outputs": [],
   "source": [
    "# 게임 타입이 뭔가? 솔랭 or 칼바람 or 일반 or 자랭\n",
    "def getGameType(rawInfo):\n",
    "    gameType = rawInfo.findChild('div', { \"class\" : \"type\" }).get_text()\n",
    "    return gameType"
   ]
  },
  {
   "cell_type": "code",
   "execution_count": 11,
   "id": "251891c0",
   "metadata": {},
   "outputs": [],
   "source": [
    "# 유저명에 따라 사이트로 이동 후 모든 처리를 거쳐 각각의 파일로 저장한다\n",
    "def findByUserName(userName):\n",
    "    fileName = userName + '.json'\n",
    "    if not (os.path.exists(fileName)):\n",
    "        #driver = webdriver.Chrome(service=Service(ChromeDriverManager().install()))\n",
    "        #driver.implicitly_wait(3)\n",
    "        #sleep(3.5)\n",
    "        driver.get(\"https://op.gg/summoners/kr/\" + userName)\n",
    "        driver.implicitly_wait(5)\n",
    "        sleep(6)\n",
    "        # 더보기 버튼 누르기(리스트 늘리기)\n",
    "        flag = 0\n",
    "        while flag == 0:\n",
    "            driver.find_element(By.XPATH, '//*[@id=\"content-container\"]/div[2]/button').click()\n",
    "            driver.implicitly_wait(10)\n",
    "            sleep(11)\n",
    "            html = driver.page_source\n",
    "            soup = BeautifulSoup(html, 'lxml')\n",
    "            gameLists = list(soup.find_all('div', result=True))\n",
    "            if len(gameLists) >= 100:\n",
    "                flag = 1\n",
    "\n",
    "        # 각 게임별 세부사항 보는 버튼 누르기 원래 1, 11\n",
    "        for i in range(1, 101):\n",
    "            try:\n",
    "                driver.find_element(By.XPATH, '//*[@id=\"content-container\"]/div[2]/div[3]/li[' + str(i) + ']/div/div[4]/button[2]/img').click()\n",
    "            except:\n",
    "                driver.find_element(By.XPATH, '//*[@id=\"content-container\"]/div[2]/div[3]/li[' + str(i) + ']/div/div[4]/button/img').click()\n",
    "            driver.implicitly_wait(2)\n",
    "            sleep(2.5)\n",
    "\n",
    "        html = driver.page_source\n",
    "        soup = BeautifulSoup(html, 'lxml')\n",
    "\n",
    "        gameLists = list(soup.find_all('div', result=True))\n",
    "        sleep(3)\n",
    "        gameInfoList = []\n",
    "        for i in range(1, 200, 2):\n",
    "            if getGameType(gameLists[i - 1]) == '솔랭' or getGameType(gameLists[i - 1]) == '무작위 총력전' or getGameType(gameLists[i - 1]) == '자유 5:5 랭크' or getGameType(gameLists[i - 1]) == '일반':\n",
    "                \n",
    "                gameInfoList.append(gameInfo(gameLists[i], getGameType(gameLists[i - 1])))\n",
    "            else:\n",
    "                pass\n",
    "\n",
    "        with open(userName + '.json', 'a', encoding='utf-8') as json_file:\n",
    "            json.dump(gameInfoList, json_file, indent='\\t', ensure_ascii=False)\n",
    "\n",
    "        sleep(3)"
   ]
  },
  {
   "cell_type": "code",
   "execution_count": null,
   "id": "8ccf5ebb",
   "metadata": {},
   "outputs": [],
   "source": [
    "with open('test.json', 'a', encoding='utf-8') as json_file:\n",
    "    json.dump(allGameList, json_file, indent='\\t', ensure_ascii=False)"
   ]
  },
  {
   "cell_type": "code",
   "execution_count": 12,
   "id": "bca4d948",
   "metadata": {},
   "outputs": [],
   "source": [
    "driver = webdriver.Chrome(service=Service(ChromeDriverManager().install()))\n",
    "driver.implicitly_wait(3)"
   ]
  },
  {
   "cell_type": "code",
   "execution_count": 20,
   "id": "c0201896",
   "metadata": {},
   "outputs": [],
   "source": [
    "# 얘만 실행하면 상위권 1000명의 유저의 데이터를 차례대로 크롤링한다\n",
    "for player in playerName:\n",
    "    findByUserName(player)"
   ]
  },
  {
   "cell_type": "code",
   "execution_count": null,
   "id": "c4be8e18",
   "metadata": {},
   "outputs": [],
   "source": []
  }
 ],
 "metadata": {
  "kernelspec": {
   "display_name": "Python 3 (ipykernel)",
   "language": "python",
   "name": "python3"
  },
  "language_info": {
   "codemirror_mode": {
    "name": "ipython",
    "version": 3
   },
   "file_extension": ".py",
   "mimetype": "text/x-python",
   "name": "python",
   "nbconvert_exporter": "python",
   "pygments_lexer": "ipython3",
   "version": "3.9.12"
  }
 },
 "nbformat": 4,
 "nbformat_minor": 5
}
